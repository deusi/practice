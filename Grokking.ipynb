{
  "nbformat": 4,
  "nbformat_minor": 0,
  "metadata": {
    "colab": {
      "provenance": [],
      "toc_visible": true,
      "authorship_tag": "ABX9TyMV0FxUdGRzE5vHmwPXx1Ok",
      "include_colab_link": true
    },
    "kernelspec": {
      "name": "python3",
      "display_name": "Python 3"
    },
    "language_info": {
      "name": "python"
    }
  },
  "cells": [
    {
      "cell_type": "markdown",
      "metadata": {
        "id": "view-in-github",
        "colab_type": "text"
      },
      "source": [
        "<a href=\"https://colab.research.google.com/github/deusi/practice/blob/main/Grokking.ipynb\" target=\"_parent\"><img src=\"https://colab.research.google.com/assets/colab-badge.svg\" alt=\"Open In Colab\"/></a>"
      ]
    },
    {
      "cell_type": "markdown",
      "source": [
        "# Two Pointers"
      ],
      "metadata": {
        "id": "bjqeYmx3EiTd"
      }
    },
    {
      "cell_type": "markdown",
      "source": [
        "##Triplet Sum Close to Target (medium)\n",
        "\n",
        "Status: Incomplete ❌"
      ],
      "metadata": {
        "id": "SjQ-Xs5_E-cI"
      }
    },
    {
      "cell_type": "code",
      "execution_count": null,
      "metadata": {
        "colab": {
          "base_uri": "https://localhost:8080/"
        },
        "id": "zGq6KLNpCCiX",
        "outputId": "5a1f256a-a89a-46c6-cc65-7ee0a34cfbca"
      },
      "outputs": [
        {
          "output_type": "stream",
          "name": "stdout",
          "text": [
            "2\n",
            "0\n",
            "3\n",
            "4\n"
          ]
        }
      ],
      "source": [
        "import math\n",
        "\n",
        "class Solution:\n",
        "  def searchDouble(self, arr, left, cur_sum, target_sum):\n",
        "    right = len(arr) - 1\n",
        "    closest = cur_sum + arr[left] + arr[right]\n",
        "    while left < right:\n",
        "      curClosest = cur_sum + arr[left] + arr[right]\n",
        "      if target_sum - curClosest == 0:\n",
        "        return curClosest\n",
        "      elif target_sum - abs(target_sum - curClosest) > 0:\n",
        "        right -= 1\n",
        "      else:\n",
        "        left += 1\n",
        "\n",
        "      if abs(target_sum - curClosest) < abs(target_sum - closest):\n",
        "        closest = curClosest\n",
        "      elif abs(target_sum - curClosest) == abs(target_sum - closest) and curClosest < closest:\n",
        "        closest = curClosest\n",
        "\n",
        "    return closest\n",
        "\n",
        "\n",
        "\n",
        "  def searchTriplet(self, arr, target_sum):\n",
        "    arr.sort()\n",
        "    left = 0\n",
        "    closest = float('inf')\n",
        "    while left < len(arr) - 2:\n",
        "      curClosest = self.searchDouble(arr, left + 1, arr[left], target_sum)\n",
        "\n",
        "      if target_sum - curClosest == 0:\n",
        "        return curClosest\n",
        "\n",
        "      if abs(target_sum - curClosest) < abs(target_sum - closest):\n",
        "        closest = curClosest\n",
        "      elif abs(target_sum - curClosest) == abs(target_sum - closest) and curClosest < closest:\n",
        "        closest = curClosest\n",
        "\n",
        "      while left + 1 < len(arr) and arr[left] == arr[left + 1]:\n",
        "        left += 1\n",
        "      left += 1\n",
        "\n",
        "    return closest\n",
        "\n",
        "\n",
        "test = Solution()\n",
        "\n",
        "arr1 = [-1, 0, 2, 3]\n",
        "target_sum1 = 3\n",
        "print(test.searchTriplet(arr1, target_sum1)) #2\n",
        "\n",
        "arr2 = [-3, -1, 1, 2]\n",
        "target_sum2 = 1\n",
        "print(test.searchTriplet(arr2, target_sum2)) #0\n",
        "\n",
        "arr3 = [1, 0, 1, 1]\n",
        "target_sum3 = 100\n",
        "print(test.searchTriplet(arr3, target_sum3)) #3\n",
        "\n",
        "arr2 = [0, 0, 1, 1, 2, 6]\n",
        "target_sum2 = 5\n",
        "print(test.searchTriplet(arr2, target_sum2)) #4\n",
        "\n",
        "\n"
      ]
    },
    {
      "cell_type": "markdown",
      "source": [
        "## Triplets with Smaller Sum (medium)\n",
        "\n",
        "Status: Complete ✅"
      ],
      "metadata": {
        "id": "HCVChXLLF9Xx"
      }
    },
    {
      "cell_type": "code",
      "source": [
        "\n",
        "\n",
        "class Solution:\n",
        "  # 32 m\n",
        "  # Runtime: O(n^2)\n",
        "  # Space: O(1)\n",
        "  def searchTriplets(self, arr, target):\n",
        "    arr.sort()\n",
        "    counter = 0\n",
        "    for i in range(0, len(arr) - 2):\n",
        "      j = i + 1\n",
        "      k = len(arr) - 1\n",
        "      while j < k:\n",
        "        if arr[i] + arr[j] + arr[k] < target:\n",
        "          counter += (k - j)\n",
        "          j += 1\n",
        "        else:\n",
        "          k -= 1\n",
        "    return counter\n",
        "\n",
        "\n",
        "\n",
        "\n",
        "test = Solution()\n",
        "print(test.searchTriplets([-1, 0, 2, 3], 3)) # 2\n",
        "print(test.searchTriplets([-1, 4, 2, 1, 3], 5)) # 4    [-1, 1, 2, 3, 4] 1 1\n",
        "print(test.searchTriplets([1, 2, 3, 4, 5], 10)) # 6    [1, 2, 3, 4, 5]\n",
        "\n",
        "\n",
        "\n",
        "\n"
      ],
      "metadata": {
        "colab": {
          "base_uri": "https://localhost:8080/"
        },
        "id": "UJKAc84o5sY-",
        "outputId": "92b2233e-66ea-4b84-ca3c-46029afc3da5"
      },
      "execution_count": null,
      "outputs": [
        {
          "output_type": "stream",
          "name": "stdout",
          "text": [
            "2\n",
            "4\n",
            "6\n"
          ]
        }
      ]
    },
    {
      "cell_type": "markdown",
      "source": [
        "## Counting Subarrays with Product Less than a Target (medium)\n",
        "\n",
        "Status: Complete ✅"
      ],
      "metadata": {
        "id": "IHw9Tj2Jn06n"
      }
    },
    {
      "cell_type": "code",
      "source": [
        "class Solution:\n",
        "  # 37 m\n",
        "  # Runtime: O(n)\n",
        "  # Space: O(1)\n",
        "  def findSubarrays(self, nums, target):\n",
        "        totalCount = 0\n",
        "        left, right = 0, 0\n",
        "        totalProduct = 1\n",
        "        while right < len(nums):\n",
        "          if totalProduct * nums[right] < target:\n",
        "            totalCount += (right + 1 - left)\n",
        "            totalProduct *= nums[right]\n",
        "            right += 1\n",
        "          else:\n",
        "            totalProduct /= nums[left]\n",
        "            left += 1\n",
        "            right = max(left, right)\n",
        "        return totalCount\n",
        "\n",
        "\n",
        "\n",
        "test = Solution()\n",
        "\n",
        "print(test.findSubarrays([2, 5, 3, 10], 30)) # 6\n",
        "print(test.findSubarrays([8, 2, 6, 5], 50)) # 7\n",
        "print(test.findSubarrays([10, 5, 2, 6], 0)) # 0\n",
        "\n",
        "\n",
        "\n",
        "\n",
        "\n",
        "\n",
        "\n",
        "\n",
        "\n",
        "\n"
      ],
      "metadata": {
        "colab": {
          "base_uri": "https://localhost:8080/"
        },
        "id": "sWE6gNQNn1U8",
        "outputId": "1d55c4b4-a05b-48a1-c2a8-406b3ba3f599"
      },
      "execution_count": null,
      "outputs": [
        {
          "output_type": "stream",
          "name": "stdout",
          "text": [
            "6\n",
            "7\n",
            "0\n"
          ]
        }
      ]
    },
    {
      "cell_type": "markdown",
      "source": [
        "## Subarrays with Product Less than a Target (medium)\n",
        "\n",
        "Status: Complete ✅"
      ],
      "metadata": {
        "id": "7nyfQWxnntMN"
      }
    },
    {
      "cell_type": "code",
      "source": [
        "class Solution:\n",
        "  # 16 m\n",
        "  # Runtime: O(n^2)\n",
        "  # Space: O(n^2), since in the worst case every element goes into the result\n",
        "  def findSubarrays(self, arr, target):\n",
        "    result = []\n",
        "    subArrayProduct = 1\n",
        "    left, right = 0, 0\n",
        "    while right < len(arr):\n",
        "      if subArrayProduct * arr[right] < target:\n",
        "        subArrayProduct *= arr[right]\n",
        "        right += 1\n",
        "        for i in range(right - 1, left - 1, -1):\n",
        "          result.append(arr[i:right])\n",
        "      else:\n",
        "        subArrayProduct /= arr[left]\n",
        "        left += 1\n",
        "        right = max(left, right)\n",
        "    return result\n",
        "\n",
        "\n",
        "\n",
        "\n",
        "test = Solution()\n",
        "\n",
        "print(test.findSubarrays([2, 5, 3, 10], 30)) # 6\n",
        "print(test.findSubarrays([8, 2, 6, 5], 50)) # 7\n",
        "print(test.findSubarrays([10, 5, 2, 6], 0)) # 0\n",
        "\n",
        "print(test.findSubarrays([2, 5, 1, 10], 30))\n",
        "print(test.findSubarrays([1, 2, 3, 4, 5], 10))\n",
        "\n",
        "\n",
        "\n",
        "\n",
        "\n"
      ],
      "metadata": {
        "colab": {
          "base_uri": "https://localhost:8080/"
        },
        "id": "Mk2X70s1ntXS",
        "outputId": "5ed0527b-1022-4a71-d48f-471508d297ad"
      },
      "execution_count": null,
      "outputs": [
        {
          "output_type": "stream",
          "name": "stdout",
          "text": [
            "[[2], [5], [2, 5], [3], [5, 3], [10]]\n",
            "[[8], [2], [8, 2], [6], [2, 6], [5], [6, 5]]\n",
            "[]\n",
            "[[2], [5], [2, 5], [1], [5, 1], [2, 5, 1], [10], [1, 10]]\n",
            "[[1], [2], [1, 2], [3], [2, 3], [1, 2, 3], [4], [5]]\n"
          ]
        }
      ]
    },
    {
      "cell_type": "markdown",
      "source": [
        "##Dutch National Flag Problem (medium)\n",
        "\n",
        "Status: Complete ✅"
      ],
      "metadata": {
        "id": "S2LMT-WNvgQ-"
      }
    },
    {
      "cell_type": "code",
      "source": [
        "class Solution:\n",
        "  # 12 m\n",
        "  # Runtime: O(n)\n",
        "  # Space: O(1)\n",
        "  def sort(self, arr):\n",
        "    left, right = 0, len(arr) - 1\n",
        "    i = 0\n",
        "    while i <= right:\n",
        "      if arr[i] == 0 and left <= i:\n",
        "        arr[i], arr[left] = arr[left], arr[i]\n",
        "        left += 1\n",
        "      elif arr[i] == 2 and i <= right:\n",
        "        arr[i], arr[right] = arr[right], arr[i]\n",
        "        right -= 1\n",
        "      else:\n",
        "        i += 1\n",
        "    return arr\n",
        "\n",
        "\n",
        "\n",
        "test = Solution()\n",
        "print(test.sort([1, 0, 2, 1, 0]))\n",
        "print(test.sort([2, 2, 0, 1, 2, 0]))\n",
        "print(test.sort([0, 0, 1, 1, 2]))\n",
        "print(test.sort([0, 0, 1, 2, 2, 2]))\n",
        "print(test.sort([0,0,0,0, 0]))\n",
        "print(test.sort([0,0,0,0,1]))\n",
        "print(test.sort([1,0,0,0,0]))\n",
        "print(test.sort([2,1,0,0]))\n",
        "print(test.sort([2,0,0,0]))\n",
        "print(test.sort([2,2,2]))\n",
        "print(test.sort([2, 1, 0, 1, 2, 0, 0]))\n",
        "\n",
        "\n",
        "\n",
        "\n"
      ],
      "metadata": {
        "colab": {
          "base_uri": "https://localhost:8080/"
        },
        "id": "ztfbj6evvgY0",
        "outputId": "d25a2a51-d4b6-47d9-98af-0c0b20ad97e1"
      },
      "execution_count": null,
      "outputs": [
        {
          "output_type": "stream",
          "name": "stdout",
          "text": [
            "[0, 0, 1, 1, 2]\n",
            "[0, 0, 1, 2, 2, 2]\n",
            "[0, 0, 1, 1, 2]\n",
            "[0, 0, 1, 2, 2, 2]\n",
            "[0, 0, 0, 0, 0]\n",
            "[0, 0, 0, 0, 1]\n",
            "[0, 0, 0, 0, 1]\n",
            "[0, 0, 1, 2]\n",
            "[0, 0, 0, 2]\n",
            "[2, 2, 2]\n",
            "[0, 0, 0, 1, 1, 2, 2]\n"
          ]
        }
      ]
    },
    {
      "cell_type": "markdown",
      "source": [
        "## Problem Challenge 1: Quadruple Sum to Target (medium)\n",
        "\n",
        "Status: Complete ✅"
      ],
      "metadata": {
        "id": "M-0cfj3_N01n"
      }
    },
    {
      "cell_type": "code",
      "source": [
        "class Solution:\n",
        "\t# 59 m\n",
        "\t# Runtime: O(n^3)\n",
        "\t# Space: O(n), since we skip the duplicates. Update: It's actually O(n^3), since there could be that many quadruplets\n",
        "\tdef searchQuadruplets(self, arr, target):\n",
        "\t\tresult = []\n",
        "\t\tarr.sort()\n",
        "\t\tfor left in range(0, len(arr) - 3):\n",
        "\t\t\tif left > 0 and arr[left] == arr[left - 1]:\n",
        "\t\t\t\tcontinue\n",
        "\t\t\tcurResult = self.searchTriplets(arr, target - arr[left], left + 1)\n",
        "\t\t\tfor r in curResult:\n",
        "\t\t\t\tresult.append([arr[left], r[0], r[1], r[2]])\n",
        "\t\treturn result\n",
        "\n",
        "\n",
        "\tdef searchTriplets(self, arr, target, left):\n",
        "\t\tresult = []\n",
        "\t\tfor i in range(left, len(arr) - 2):\n",
        "\t\t\tif i > left and arr[i] == arr[i - 1]:\n",
        "\t\t\t\tcontinue\n",
        "\t\t\t#print(arr[i])\n",
        "\t\t\tcurResult = self.searchDoubles(arr, target - arr[i], i +1)\n",
        "\t\t\tfor r in curResult:\n",
        "\t\t\t\tresult.append([arr[i], r[0], r[1]])\n",
        "\t\treturn result\n",
        "\n",
        "\n",
        "\tdef searchDoubles(self, arr, target, left):\n",
        "\t\tresult = []\n",
        "\t\tright = len(arr) - 1\n",
        "\t\twhile left < right:\n",
        "\t\t\tif arr[left] + arr[right] == target:\n",
        "\t\t\t\tresult.append([arr[left], arr[right]])\n",
        "\t\t\t\tleft += 1\n",
        "\t\t\t\tright -= 1\n",
        "\t\t\t\twhile left < len(arr) and arr[left - 1] == arr[left]:\n",
        "\t\t\t\t\tleft += 1\n",
        "\t\t\t\twhile right > 0 and arr[right] == arr[right + 1]:\n",
        "\t\t\t\t\tright -= 1\n",
        "\t\t\telif arr[left] + arr[right] < target:\n",
        "\t\t\t\tleft += 1\n",
        "\t\t\t\twhile left < len(arr) and arr[left - 1] == arr[left]:\n",
        "\t\t\t\t\tleft += 1\n",
        "\t\t\telse:\n",
        "\t\t\t\t#print(right, left)\n",
        "\t\t\t\tright -= 1\n",
        "\t\t\t\twhile right > 0 and arr[right] == arr[right + 1]:\n",
        "\t\t\t\t\tright -= 1\n",
        "\t\treturn result\n",
        "\n",
        "\n",
        "\n",
        "\n",
        "\n",
        "\n",
        "\n",
        "test = Solution()\n",
        "print(test.searchQuadruplets([4, 1, 2, -1, 1, -3], 1)) # 2\n",
        "print(test.searchQuadruplets([2, 0, -1, 1, -2, 2], 2))\n",
        "print(test.searchQuadruplets([1, 1, 1, 1, 1, 1], 4))\n",
        "print(test.searchQuadruplets([1,2,3,4], 10))\n",
        "print(test.searchQuadruplets([1, 2, 3], 3))\n",
        "\n",
        "\n",
        "\n"
      ],
      "metadata": {
        "id": "1-jW2tadN1FZ",
        "colab": {
          "base_uri": "https://localhost:8080/"
        },
        "outputId": "585030c8-abf2-4276-f00d-74b4843f6d40"
      },
      "execution_count": null,
      "outputs": [
        {
          "output_type": "stream",
          "name": "stdout",
          "text": [
            "[[-3, -1, 1, 4], [-3, 1, 1, 2]]\n",
            "[[-2, 0, 2, 2], [-1, 0, 1, 2]]\n",
            "[[1, 1, 1, 1]]\n",
            "[[1, 2, 3, 4]]\n",
            "[]\n"
          ]
        }
      ]
    },
    {
      "cell_type": "markdown",
      "source": [
        "## Problem Challenge 2: Comparing Strings containing Backspaces (medium)\n",
        "Status: ✅"
      ],
      "metadata": {
        "id": "eDtzdouXfKLM"
      }
    },
    {
      "cell_type": "code",
      "source": [
        "class Solution:\n",
        "  # 25 m\n",
        "  # Runtime: O(m + n), m, n string length\n",
        "  # Space: O(1), only use constant space\n",
        "  def compare(self, str1, str2):\n",
        "    left, right = len(str1) - 1, len(str2) - 1\n",
        "    leftBackspace, rightBackspace = 0, 0\n",
        "    while left >= 0 and right >= 0:\n",
        "      if str1[left] == '#':\n",
        "        leftBackspace += 1\n",
        "        left -= 1\n",
        "      elif str2[right] == '#':\n",
        "        rightBackspace += 1\n",
        "        right -= 1\n",
        "      elif leftBackspace > 0:\n",
        "        leftBackspace -= 1\n",
        "        left -= 1\n",
        "      elif rightBackspace > 0:\n",
        "        rightBackspace -= 1\n",
        "        right -= 1\n",
        "      elif leftBackspace == 0 and rightBackspace == 0:\n",
        "        if str1[left] != str2[right]:\n",
        "          return False\n",
        "        left -= 1\n",
        "        right -= 1\n",
        "\n",
        "    if left == right:\n",
        "      return True\n",
        "\n",
        "    remNums = left if left > right else right\n",
        "    remStr = str1 if left > right else str2\n",
        "    remBackspaces = leftBackspace if left > right else rightBackspace\n",
        "\n",
        "    while remNums >= 0:\n",
        "      if remStr[remNums] == '#':\n",
        "        remBackspaces += 1\n",
        "        remNums -= 1\n",
        "      elif remBackspaces > 0:\n",
        "        remBackspaces -= 1\n",
        "        remNums -= 1\n",
        "      else:\n",
        "        return False\n",
        "\n",
        "    return True\n",
        "\n",
        "\n",
        "test = Solution()\n",
        "print(test.compare(\"xy#z\", \"xzz#\")) # True\n",
        "print(test.compare(\"xy#z\", \"xyz#\")) # False\n",
        "print(test.compare(\"xp#\", \"xyz##\")) # True\n",
        "print(test.compare(\"xywrrmp\", \"xywrrmu#p\")) # True\n",
        "print(test.compare(\"a\", \"a\")) # True\n",
        "print(test.compare(\"a\", \"b\")) # False\n",
        "print(test.compare(\"##\", \"#\")) # True\n",
        "\n",
        "print(test.compare(\"a##xy#z\", \"xzz#\")) # True\n",
        "print(test.compare(\"aaa##xy#z\", \"xzz#\")) # False\n",
        "\n",
        "\n",
        "\n",
        "\n",
        "\n"
      ],
      "metadata": {
        "colab": {
          "base_uri": "https://localhost:8080/"
        },
        "id": "9Y7ONkB1fKU2",
        "outputId": "12a596c4-4538-49b4-c446-b0384cd6fec4"
      },
      "execution_count": null,
      "outputs": [
        {
          "output_type": "stream",
          "name": "stdout",
          "text": [
            "True\n",
            "False\n",
            "True\n",
            "True\n",
            "True\n",
            "False\n",
            "True\n",
            "True\n",
            "False\n"
          ]
        }
      ]
    },
    {
      "cell_type": "markdown",
      "source": [
        "## Problem Challenge 3: Minimum Window Sort (medium)\n",
        "Status: ✅"
      ],
      "metadata": {
        "id": "JNrd2Vsv-Stl"
      }
    },
    {
      "cell_type": "code",
      "source": [
        "class Solution:\n",
        "  # 65+ m\n",
        "  # Runtime: O(n)\n",
        "  # Space: O(1)\n",
        "  def sort(self, arr):\n",
        "    leftValid, rightValid = 0, len(arr) - 1\n",
        "    while leftValid < len(arr) - 1 and arr[leftValid] <= arr[leftValid + 1]:\n",
        "      leftValid += 1\n",
        "    for i in range(leftValid + 1, len(arr)):\n",
        "      while arr[i] < arr[leftValid]:\n",
        "        if leftValid == 0:\n",
        "          leftValid -= 1\n",
        "          break\n",
        "        leftValid -= 1\n",
        "      if leftValid == -1:\n",
        "        break\n",
        "    while rightValid > 0 and arr[rightValid] >= arr[rightValid - 1]:\n",
        "      rightValid -= 1\n",
        "    for i in range(rightValid - 1, -1, -1):\n",
        "      while arr[i] > arr[rightValid]:\n",
        "        if rightValid == len(arr) - 1:\n",
        "          rightValid += 1\n",
        "          break\n",
        "        rightValid += 1\n",
        "      if rightValid == len(arr):\n",
        "        break\n",
        "    leftValid = leftValid + 1 if leftValid > -1 else 0\n",
        "    rightValid = rightValid - 1 if rightValid < len(arr) else len(arr) - 1\n",
        "    return max(0, len(arr) - leftValid - (len(arr) - 1 - rightValid))\n",
        "\n",
        "\n",
        "\n",
        "test = Solution()\n",
        "print(test.sort([1, 2, 5, 3, 7, 10, 9, 12])) # 5\n",
        "print(test.sort([1, 3, 2, 0, -1, 7, 10])) # 5\n",
        "print(test.sort([1, 2, 3])) # 0\n",
        "print(test.sort([3, 2, 1])) # 3\n",
        "\n",
        "\n",
        "\n",
        "\n",
        "\n",
        "\n",
        "\n",
        "\n",
        "\n",
        "\n",
        "\n",
        "\n"
      ],
      "metadata": {
        "colab": {
          "base_uri": "https://localhost:8080/"
        },
        "id": "PgEtUwuV-S_j",
        "outputId": "53c29961-c3ab-4e50-9645-d1f4d03e5a38"
      },
      "execution_count": null,
      "outputs": [
        {
          "output_type": "stream",
          "name": "stdout",
          "text": [
            "5\n",
            "5\n",
            "0\n",
            "3\n"
          ]
        }
      ]
    },
    {
      "cell_type": "markdown",
      "source": [
        "# Pattern: Fast & Slow Pointers"
      ],
      "metadata": {
        "id": "g_HExVOx6tmM"
      }
    },
    {
      "cell_type": "markdown",
      "source": [
        "## LinkedList Cycle (easy)\n",
        "Status: ✅"
      ],
      "metadata": {
        "id": "33wa1LC46083"
      }
    },
    {
      "cell_type": "code",
      "source": [
        "class Node:\n",
        "  def __init__(self, value, next=None):\n",
        "    self.val = value\n",
        "    self.next = next\n",
        "\n",
        "\n",
        "class Solution:\n",
        "  # 10m\n",
        "  # Runtime: O(n)\n",
        "  # Space: O(1)\n",
        "  def hasCycle(self, head):\n",
        "    slow = head\n",
        "    fast = head\n",
        "    while fast and fast.next:\n",
        "      slow = slow.next\n",
        "      fast = fast.next.next\n",
        "      if slow == fast:\n",
        "        return True\n",
        "    return False\n",
        "\n",
        "\n",
        "test = Solution()\n",
        "print(test.hasCycle(Node(1))) # False\n",
        "print(test.hasCycle(Node(1, Node(2, Node(3))))) # False\n",
        "\n",
        "\n",
        "\n"
      ],
      "metadata": {
        "colab": {
          "base_uri": "https://localhost:8080/"
        },
        "id": "3ZyHGl-Y61MZ",
        "outputId": "1da406c6-0789-4a44-a772-46402956bb36"
      },
      "execution_count": null,
      "outputs": [
        {
          "output_type": "stream",
          "name": "stdout",
          "text": [
            "False\n",
            "False\n"
          ]
        }
      ]
    },
    {
      "cell_type": "markdown",
      "source": [
        "## Middle of the LinkedList (easy)\n",
        "Status: ✅"
      ],
      "metadata": {
        "id": "9upEEV6A-k-8"
      }
    },
    {
      "cell_type": "code",
      "source": [
        "class Node:\n",
        "  def __init__(self, value, next=None):\n",
        "    self.val = value\n",
        "    self.next = next\n",
        "\n",
        "class Solution:\n",
        "  # 5 m\n",
        "  # Runtime: O(n)\n",
        "  # Space O(1)\n",
        "  def findMiddle(self, head):\n",
        "    slow, fast = head, head\n",
        "    while fast and fast.next:\n",
        "      slow = slow.next\n",
        "      fast = fast.next.next\n",
        "    return slow\n",
        "\n",
        "\n",
        "test = Solution()\n",
        "print(test.findMiddle(Node(1))) # 1\n",
        "print(test.findMiddle(Node(1, Node(2, Node(3))))) # 2\n",
        "print(test.findMiddle(Node(1, Node(2, Node(3, Node(4)))))) # 3\n",
        "print(test.findMiddle(Node(1, Node(2, Node(3, Node(4, Node(5))))))) # 3\n",
        "\n",
        "\n"
      ],
      "metadata": {
        "colab": {
          "base_uri": "https://localhost:8080/"
        },
        "id": "mkbh2zLn-pgU",
        "outputId": "820b81a1-5ef7-44de-fb40-50b5c8c3d50c"
      },
      "execution_count": null,
      "outputs": [
        {
          "output_type": "stream",
          "name": "stdout",
          "text": [
            "1\n",
            "2\n",
            "3\n",
            "3\n"
          ]
        }
      ]
    },
    {
      "cell_type": "markdown",
      "source": [
        "## Start of LinkedList Cycle (medium)\n",
        "Status: ✅"
      ],
      "metadata": {
        "id": "Pvwk3S_iABpW"
      }
    },
    {
      "cell_type": "code",
      "source": [
        "class Node:\n",
        "  def __init__(self, value, next=None):\n",
        "    self.val = value\n",
        "    self.next = next\n",
        "\n",
        "class Solution:\n",
        "  # 16 m\n",
        "  # Runtime: O(n)\n",
        "  # Space: O(1)\n",
        "  def findCycleStart(self, head):\n",
        "    slow, fast = head, head\n",
        "    while fast and fast.next:\n",
        "      slow = slow.next\n",
        "      fast = fast.next.next\n",
        "      if slow == fast:\n",
        "        break\n",
        "    cur = head\n",
        "    while cur != slow:\n",
        "      cur = cur.next\n",
        "      slow = slow.next\n",
        "    return cur\n",
        "\n",
        "\n",
        "test = Solution()\n",
        "head = Node(1)\n",
        "head.next = Node(2)\n",
        "head.next.next = Node(3)\n",
        "head.next.next.next = Node(4)\n",
        "head.next.next.next.next = Node(5)\n",
        "head.next.next.next.next.next = Node(6)\n",
        "\n",
        "head.next.next.next.next.next.next = head.next.next\n",
        "print(test.findCycleStart(head).val) # 3\n",
        "\n",
        "head.next.next.next.next.next.next = head.next.next.next\n",
        "print(test.findCycleStart(head).val) # 4\n",
        "\n",
        "head.next.next.next.next.next.next = head\n",
        "print(test.findCycleStart(head).val) # 1\n",
        "\n",
        "\n",
        "\n",
        "\n"
      ],
      "metadata": {
        "colab": {
          "base_uri": "https://localhost:8080/"
        },
        "id": "MQSRawu_ADlm",
        "outputId": "7cb11f0a-96d2-47c0-e3a0-40f53c34fa06"
      },
      "execution_count": null,
      "outputs": [
        {
          "output_type": "stream",
          "name": "stdout",
          "text": [
            "3\n",
            "4\n",
            "1\n"
          ]
        }
      ]
    },
    {
      "cell_type": "markdown",
      "source": [
        "## Happy Number (medium)\n",
        "Status: ✅"
      ],
      "metadata": {
        "id": "lM8aiQxbpLoe"
      }
    },
    {
      "cell_type": "code",
      "source": [
        "class Solution:\n",
        "  # 14 m\n",
        "  # Runtime: O(n)\n",
        "  # Space: O(1)\n",
        "  def find(self, num):\n",
        "    slow, fast = num, num\n",
        "    while fast != 1:\n",
        "      slow = self._findNext(slow)\n",
        "      fast = self._findNext(fast)\n",
        "      fast = self._findNext(fast)\n",
        "\n",
        "      if fast != 1 and slow == fast:\n",
        "        return False\n",
        "\n",
        "    return True\n",
        "\n",
        "  def _findNext(self, num):\n",
        "    newNum = 0\n",
        "    for digit in str(num):\n",
        "      newNum += int(digit) ** 2\n",
        "    return newNum\n",
        "\n",
        "\n",
        "test = Solution()\n",
        "print(test.find(23)) #True\n",
        "print(test.find(12)) #False\n",
        "\n",
        "print(test.find(1)) #True\n",
        "\n",
        "print(test.find(24))\n",
        "print(test.find(13))\n",
        "\n",
        "\n",
        "\n"
      ],
      "metadata": {
        "colab": {
          "base_uri": "https://localhost:8080/"
        },
        "id": "zdQOMPK4pLyz",
        "outputId": "fef74485-b16a-48be-a0f6-b62fd5b63e68"
      },
      "execution_count": null,
      "outputs": [
        {
          "output_type": "stream",
          "name": "stdout",
          "text": [
            "True\n",
            "False\n",
            "True\n",
            "False\n",
            "True\n"
          ]
        }
      ]
    },
    {
      "cell_type": "markdown",
      "source": [
        "## Problem Challenge 1: Palindrome LinkedList (medium)\n",
        "Status: ✅"
      ],
      "metadata": {
        "id": "U0rouz-rIvH0"
      }
    },
    {
      "cell_type": "code",
      "source": [
        "class Node:\n",
        "  def __init__(self, value, next = None):\n",
        "    self.val = value\n",
        "    self.next = next\n",
        "\n",
        "\n",
        "class Solution:\n",
        "  def _reverseLL(self, node):\n",
        "    prev, cur = None, node\n",
        "    while cur:\n",
        "      next = cur.next\n",
        "      cur.next = prev\n",
        "      prev = cur\n",
        "      cur = next\n",
        "    return prev\n",
        "\n",
        "  # 34 m\n",
        "  # Runtime: O(n)\n",
        "  # Space: O(1)\n",
        "  def isPalindrome(self, head):\n",
        "    if not head:\n",
        "      return True\n",
        "\n",
        "    fast, slow = head, head\n",
        "    count = 1\n",
        "    while fast and fast.next:\n",
        "      fast = fast.next\n",
        "      count += 1\n",
        "      if fast.next:\n",
        "        fast = fast.next\n",
        "        count += 1\n",
        "      else:\n",
        "        break\n",
        "      slow = slow.next\n",
        "\n",
        "    reversed = self._reverseLL(slow.next)\n",
        "    slow.next = reversed\n",
        "\n",
        "    ptr1, ptr2 = head, slow.next\n",
        "    isPalidrome = True\n",
        "    for _ in range(count // 2):\n",
        "      if ptr1.val != ptr2.val:\n",
        "        isPalidrome = False\n",
        "        break\n",
        "      ptr1 = ptr1.next\n",
        "      ptr2 = ptr2.next\n",
        "\n",
        "    reversed = self._reverseLL(slow.next)\n",
        "    slow.next = reversed\n",
        "\n",
        "    return isPalidrome\n",
        "\n",
        "\n",
        "def main():\n",
        "  sol = Solution()\n",
        "  print(\"Is palindrome: \" + str(sol.isPalindrome(None))) # True\n",
        "\n",
        "  head = Node(2)\n",
        "  print(\"Is palindrome: \" + str(sol.isPalindrome(head))) # True\n",
        "\n",
        "  head.next = Node(4)\n",
        "  print(\"Is palindrome: \" + str(sol.isPalindrome(head))) # False\n",
        "\n",
        "  head.next.next = Node(6)\n",
        "  head.next.next.next = Node(4)\n",
        "  head.next.next.next.next = Node(2)\n",
        "\n",
        "  print(\"Is palindrome: \" + str(sol.isPalindrome(head))) # True\n",
        "\n",
        "  head.next.next.next.next.next = Node(2)\n",
        "  print(\"Is palindrome: \" + str(sol.isPalindrome(head))) # False\n",
        "\n",
        "\n",
        "main()\n",
        "\n",
        "\n",
        "\n",
        "\n",
        "\n",
        "\n",
        "\n",
        "\n",
        "\n"
      ],
      "metadata": {
        "colab": {
          "base_uri": "https://localhost:8080/"
        },
        "id": "5yyuX-SyIxBS",
        "outputId": "047f53cd-8940-4641-ff10-5ae67143bac4"
      },
      "execution_count": null,
      "outputs": [
        {
          "output_type": "stream",
          "name": "stdout",
          "text": [
            "Is palindrome: True\n",
            "Is palindrome: True\n",
            "Is palindrome: False\n",
            "Is palindrome: True\n",
            "Is palindrome: False\n"
          ]
        }
      ]
    },
    {
      "cell_type": "markdown",
      "source": [
        "## Problem Challenge 2: Rearrange a LinkedList (medium)\n",
        "Status: ✅"
      ],
      "metadata": {
        "id": "-UByyfoeYty-"
      }
    },
    {
      "cell_type": "code",
      "source": [
        "class Node:\n",
        "  def __init__(self, val, next=None):\n",
        "    self.val = val\n",
        "    self.next = next\n",
        "\n",
        "\n",
        "class Solution:\n",
        "  def reverseLL(self, node):\n",
        "    prev = None\n",
        "    while node:\n",
        "      next = node.next\n",
        "      node.next = prev\n",
        "      prev = node\n",
        "      node = next\n",
        "    return prev\n",
        "\n",
        "  # 25 m\n",
        "  # Runtime: O(n)\n",
        "  # Space: O(1)\n",
        "  def reorder(self, head):\n",
        "    slow, fast = head, head\n",
        "    while fast and fast.next:\n",
        "      slow = slow.next\n",
        "      fast = fast.next.next\n",
        "\n",
        "    rev = self.reverseLL(slow)\n",
        "    slow.next = None\n",
        "    cur = head\n",
        "    while cur and rev:\n",
        "      curNext = cur.next\n",
        "      revNext = rev.next\n",
        "      cur.next = rev\n",
        "      rev.next = curNext\n",
        "      cur = curNext\n",
        "      rev = revNext\n",
        "\n",
        "    # Special case to prevent the cycle\n",
        "    # alternatively, we can set the end of the first ll to 0\n",
        "    if cur:\n",
        "      cur.next = None\n",
        "\n",
        "    return head\n",
        "\n",
        "  # copied from the solution for testing\n",
        "  def print_list(self, head):\n",
        "    temp = head\n",
        "    while temp is not None:\n",
        "      print(str(temp.val) + \" \", end='')\n",
        "      temp = temp.next\n",
        "    print()\n",
        "\n",
        "\n",
        "\n",
        "def main():\n",
        "  sol = Solution()\n",
        "  head = Node(2)\n",
        "  head.next = Node(4)\n",
        "  head.next.next = Node(6)\n",
        "  head.next.next.next = Node(8)\n",
        "  head.next.next.next.next = Node(10)\n",
        "  head.next.next.next.next.next = Node(12)\n",
        "  sol.reorder(head)\n",
        "  sol.print_list(head)\n",
        "\n",
        "main()\n",
        "\n",
        "\n",
        "\n",
        "\n",
        "\n",
        "\n"
      ],
      "metadata": {
        "colab": {
          "base_uri": "https://localhost:8080/"
        },
        "id": "jGBhF_l7Yt7O",
        "outputId": "35211b9a-346f-4aeb-c4b4-bbd549b428df"
      },
      "execution_count": null,
      "outputs": [
        {
          "output_type": "stream",
          "name": "stdout",
          "text": [
            "2 12 4 10 6 8 \n"
          ]
        }
      ]
    },
    {
      "cell_type": "markdown",
      "source": [
        "## Problem Challenge 3: Cycle in a Circular Array (hard)\n",
        "Status: ✅"
      ],
      "metadata": {
        "id": "qYQ2AVJEezAL"
      }
    },
    {
      "cell_type": "code",
      "source": [
        "class Solution:\n",
        "  # 1 hr prev\n",
        "  # 28 mins\n",
        "  # Runtime: O(n^2), since we visit every element and in the worst case have to go through entire array\n",
        "  # Can reduce runtime to O(n) by adding a set to avoid previously visited paths at the expense of O(n) space\n",
        "  # Space: O(1)\n",
        "  def loopExists(self, arr):\n",
        "    for i in range(len(arr)):\n",
        "      slow, fast = i, i\n",
        "      while abs(arr[i] + arr[fast]) > max(arr[i], arr[fast]):\n",
        "        slow = (slow + arr[slow]) % len(arr)\n",
        "        fast = (fast + arr[fast]) % len(arr)\n",
        "        if abs(arr[i] + arr[fast]) <= max(arr[i], arr[fast]):\n",
        "          break\n",
        "        if fast == (fast + arr[fast]) % len(arr):\n",
        "          break\n",
        "        fast = (fast + arr[fast]) % len(arr)\n",
        "        if fast == slow:\n",
        "          return True\n",
        "\n",
        "    return False\n",
        "\n",
        "\n",
        "\n",
        "\n",
        "\n",
        "def main():\n",
        "  sol = Solution()\n",
        "  print(sol.loopExists([1, 2, -1, 2, 2])) # True\n",
        "  print(sol.loopExists([2, 2, -1, 2])) # True\n",
        "  print(sol.loopExists([2, 1, -1, -2])) # False\n",
        "\n",
        "  print(sol.loopExists([3,2,-2,5,6])) # False\n",
        "\n",
        "\n",
        "main()\n",
        "\n",
        "\n",
        "\n",
        "\n",
        "\n"
      ],
      "metadata": {
        "colab": {
          "base_uri": "https://localhost:8080/"
        },
        "id": "VV0e6F1EezHd",
        "outputId": "01969e68-54f8-49b2-c8f5-f30355811740"
      },
      "execution_count": null,
      "outputs": [
        {
          "output_type": "stream",
          "name": "stdout",
          "text": [
            "True\n",
            "True\n",
            "False\n",
            "False\n"
          ]
        }
      ]
    },
    {
      "cell_type": "markdown",
      "source": [
        "# Pattern: Sliding Window"
      ],
      "metadata": {
        "id": "JAJntFW_olgV"
      }
    },
    {
      "cell_type": "markdown",
      "source": [
        "## Maximum Sum Subarray of Size K (easy)\n",
        "Status: ✅"
      ],
      "metadata": {
        "id": "BcyV34bgomb6"
      }
    },
    {
      "cell_type": "code",
      "source": [
        "class Solution:\n",
        "  # 12ish mins\n",
        "  # Runtime: O(n)\n",
        "  # Space: O(1)\n",
        "  def findMaxSumSubArray(self, k, arr):\n",
        "    if k < 0 or len(arr) == 0:\n",
        "      return 0\n",
        "    maxSum, curSum = 0, 0\n",
        "    subArrayStart, subArraySize = 0, 0\n",
        "    for num in arr:\n",
        "      curSum += num\n",
        "      subArraySize += 1\n",
        "      if subArraySize == k:\n",
        "        maxSum = max(maxSum, curSum)\n",
        "        curSum -= arr[subArrayStart]\n",
        "        subArrayStart += 1\n",
        "        subArraySize -= 1\n",
        "\n",
        "    return maxSum\n",
        "\n",
        "\n",
        "def main():\n",
        "  sol = Solution()\n",
        "\n",
        "  print(sol.findMaxSumSubArray(3, [2, 1, 5, 1, 3, 2])) # 9\n",
        "  print(sol.findMaxSumSubArray(2, [2, 3, 4, 1, 5])) # 7\n",
        "\n",
        "  print(sol.findMaxSumSubArray(0, [2, 1, 5, 1, 3, 2])) # 0\n",
        "  print(sol.findMaxSumSubArray(5, [2, 3, 4, 1, 5])) # 15\n",
        "\n",
        "\n",
        "main()"
      ],
      "metadata": {
        "colab": {
          "base_uri": "https://localhost:8080/"
        },
        "id": "QiURYjN-omq5",
        "outputId": "e296f5cf-86d2-4e43-ef28-5af340fea775"
      },
      "execution_count": null,
      "outputs": [
        {
          "output_type": "stream",
          "name": "stdout",
          "text": [
            "9\n",
            "7\n",
            "0\n",
            "15\n"
          ]
        }
      ]
    },
    {
      "cell_type": "markdown",
      "source": [
        "## Smallest Subarray With a Greater Sum (easy)\n",
        "Status: ✅"
      ],
      "metadata": {
        "id": "rqVhR6bruwpq"
      }
    },
    {
      "cell_type": "code",
      "source": [
        "class Solution:\n",
        "  # 15 m\n",
        "  # Runtime: O(n)\n",
        "  # Space: O(1)\n",
        "  def findMinSubArray(self, s, arr):\n",
        "    left, right = 0, 0\n",
        "    minArrLen = len(arr) + 1\n",
        "    subSum = 0\n",
        "    while right < len(arr) or subSum >= s:\n",
        "      if subSum < s and right < len(arr):\n",
        "        subSum += arr[right]\n",
        "        right += 1\n",
        "      if subSum >= s:\n",
        "        minArrLen = min(minArrLen, right - left)\n",
        "        subSum -= arr[left]\n",
        "        left += 1\n",
        "    if minArrLen == len(arr) + 1:\n",
        "      return 0\n",
        "    return minArrLen\n",
        "\n",
        "\n",
        "\n",
        "def main():\n",
        "  sol = Solution()\n",
        "  print(sol.findMinSubArray(7, [2, 1, 5, 2, 3, 2])) # 2\n",
        "  print(sol.findMinSubArray(7, [2, 1, 5, 2, 8])) # 1\n",
        "  print(sol.findMinSubArray(8, [3, 4, 1, 1, 6])) # 3\n",
        "\n",
        "  print(sol.findMinSubArray(8, [2, 1, 5])) # 3\n",
        "  print(sol.findMinSubArray(9, [2, 1, 5])) # 0\n",
        "  print(sol.findMinSubArray(1, [2, 1, 5])) # 0\n",
        "\n",
        "\n",
        "main()\n"
      ],
      "metadata": {
        "colab": {
          "base_uri": "https://localhost:8080/"
        },
        "id": "D77rJ7phuwyL",
        "outputId": "c4ab2ae6-0cf5-4eb2-afaf-3feb55bedb7f"
      },
      "execution_count": null,
      "outputs": [
        {
          "output_type": "stream",
          "name": "stdout",
          "text": [
            "2\n",
            "1\n",
            "3\n",
            "3\n",
            "0\n",
            "1\n"
          ]
        }
      ]
    },
    {
      "cell_type": "markdown",
      "source": [
        "## Longest Substring with K Distinct Characters (medium)\n",
        "Status: ✅"
      ],
      "metadata": {
        "id": "TO4orp7OyqNk"
      }
    },
    {
      "cell_type": "code",
      "source": [
        "from collections import Counter\n",
        "\n",
        "class Solution:\n",
        "  # 4m + 4m\n",
        "  # Runtime: O(n)\n",
        "  # Space: O(1)\n",
        "  def findLength(self, str1, k):\n",
        "    maxLength = 0\n",
        "    left = 0\n",
        "    charCounter = Counter()\n",
        "    for right in range(len(str1)):\n",
        "      charCounter[str1[right]] += 1\n",
        "      while len(charCounter) > k:\n",
        "        charCounter[str1[left]] -= 1\n",
        "        if charCounter[str1[left]] == 0:\n",
        "          del charCounter[str1[left]]\n",
        "        left += 1\n",
        "      maxLength = max(maxLength, right - left + 1)\n",
        "    return maxLength\n",
        "\n",
        "\n",
        "def main():\n",
        "  sol = Solution()\n",
        "  print(sol.findLength(\"araaci\", 2)) # 4\n",
        "  print(sol.findLength(\"araaci\", 1)) # 2\n",
        "  print(sol.findLength(\"cbbebi\", 3)) # 5\n",
        "\n",
        "  print(sol.findLength(\"cbbebi\", 0)) # 0\n",
        "  print(sol.findLength(\"cbbebi\", 4)) # 6\n",
        "\n",
        "\n",
        "\n",
        "main()"
      ],
      "metadata": {
        "colab": {
          "base_uri": "https://localhost:8080/"
        },
        "id": "wT2pOtkpyqWU",
        "outputId": "ab3d5444-fe22-4906-be1e-9fe8778424e0"
      },
      "execution_count": null,
      "outputs": [
        {
          "output_type": "stream",
          "name": "stdout",
          "text": [
            "4\n",
            "2\n",
            "5\n",
            "0\n",
            "6\n"
          ]
        }
      ]
    },
    {
      "cell_type": "markdown",
      "source": [
        "## Fruits into Baskets (medium)\n",
        "Status: ✅"
      ],
      "metadata": {
        "id": "AmUpHpZbTMWg"
      }
    },
    {
      "cell_type": "code",
      "source": [
        "from collections import Counter\n",
        "\n",
        "class Solution:\n",
        "  # 14 m\n",
        "  # Runtime: O(n)\n",
        "  # Space: O(1)\n",
        "  def findLength(self, fruits):\n",
        "    maxLength = 0\n",
        "    fruitCounter = Counter()\n",
        "    left = 0\n",
        "    for right in range(len(fruits)):\n",
        "      fruitCounter[fruits[right]] += 1\n",
        "      while len(fruitCounter) > 2:\n",
        "        fruitCounter[fruits[left]] -= 1\n",
        "        if fruitCounter[fruits[left]] == 0:\n",
        "          del fruitCounter[fruits[left]]\n",
        "        left += 1\n",
        "      maxLength = max(maxLength, right - left + 1)\n",
        "    return maxLength\n",
        "\n",
        "\n",
        "def main():\n",
        "  sol = Solution()\n",
        "  print(sol.findLength(['A', 'B', 'C', 'A', 'C'])) # 3\n",
        "  print(sol.findLength(['A', 'B', 'C', 'B', 'B', 'C'])) # 5\n",
        "\n",
        "  print(sol.findLength(['A', 'B', 'C'])) # 2\n",
        "  print(sol.findLength(['A', 'A', 'C', 'C', 'B'])) # 4\n",
        "  print(sol.findLength([])) # 0\n",
        "\n",
        "\n",
        "main()"
      ],
      "metadata": {
        "colab": {
          "base_uri": "https://localhost:8080/"
        },
        "id": "dJiJC7nvTMmB",
        "outputId": "34581c44-60b5-446e-bbcb-124f7c6dfb7e"
      },
      "execution_count": null,
      "outputs": [
        {
          "output_type": "stream",
          "name": "stdout",
          "text": [
            "3\n",
            "5\n",
            "2\n",
            "4\n",
            "0\n"
          ]
        }
      ]
    },
    {
      "cell_type": "markdown",
      "source": [
        "## Longest Substring with Same Letters after Replacement (hard)\n",
        "Status: ✅"
      ],
      "metadata": {
        "id": "CpoFJkbpX1Xt"
      }
    },
    {
      "cell_type": "code",
      "source": [
        "from collections import Counter\n",
        "\n",
        "class Solution:\n",
        "  # 28 m\n",
        "  # Runtime: O(n)\n",
        "  # Space: O(1), since counter is limited by the alphabet\n",
        "  def findLength(self, str1, k):\n",
        "    maxLength = 0\n",
        "    left = 0\n",
        "    counter = Counter()\n",
        "    for right in range(len(str1)):\n",
        "      counter[str1[right]] += 1\n",
        "      while sum(counter.values()) - max(counter.values()) > k:\n",
        "        counter[str1[left]] -= 1\n",
        "        if counter[str1[left]] == 0:\n",
        "          del counter[str1[left]]\n",
        "        left += 1\n",
        "      maxLength = max(maxLength, right - left + 1)\n",
        "    return maxLength\n",
        "\n",
        "\n",
        "def main():\n",
        "  sol = Solution()\n",
        "  print(sol.findLength(\"aabccbb\", 2)) # 5\n",
        "  print(sol.findLength(\"abbcb\", 1)) # 4\n",
        "  print(sol.findLength(\"abccde\", 1)) # 3\n",
        "\n",
        "  print(sol.findLength(\"abccde\", 0)) # 2\n",
        "  print(sol.findLength(\"abccde\", 4)) # 6\n",
        "\n",
        "\n",
        "main()"
      ],
      "metadata": {
        "colab": {
          "base_uri": "https://localhost:8080/"
        },
        "id": "JcyOlErsX3Ba",
        "outputId": "39eb9510-4f7a-4c34-cf1d-8e666362f7d0"
      },
      "execution_count": null,
      "outputs": [
        {
          "output_type": "stream",
          "name": "stdout",
          "text": [
            "5\n",
            "4\n",
            "3\n",
            "2\n",
            "6\n"
          ]
        }
      ]
    },
    {
      "cell_type": "markdown",
      "source": [
        "## Longest Subarray with Ones after Replacement (hard)\n",
        "Status: ✅"
      ],
      "metadata": {
        "id": "NTx5YfJy6Rwt"
      }
    },
    {
      "cell_type": "code",
      "source": [
        "class Solution:\n",
        "  # 12 m\n",
        "  # Runtime: O(n)\n",
        "  # Space: O(1)\n",
        "  def findLength(self, arr, k):\n",
        "    maxLength = 0\n",
        "    left, count = 0,0\n",
        "    for right in range(len(arr)):\n",
        "      if arr[right] == 0:\n",
        "        count += 1\n",
        "      if count > k:\n",
        "        if arr[left] == 0:\n",
        "          count -= 1\n",
        "        left += 1\n",
        "      maxLength = max(maxLength, right - left + 1)\n",
        "    return maxLength\n",
        "\n",
        "def main():\n",
        "  sol = Solution()\n",
        "  print(sol.findLength([0, 1, 1, 0, 0, 0, 1, 1, 0, 1, 1], 2)) # 6\n",
        "  print(sol.findLength([0, 1, 0, 0, 1, 1, 0, 1, 1, 0, 0, 1, 1], 3)) # 9\n",
        "  print(sol.findLength([1, 0, 0, 1, 1, 0, 1, 1], 2)) # 6\n",
        "\n",
        "  print(sol.findLength([0, 1, 0, 0, 1, 1, 0, 1, 1, 0, 0, 1, 1], 0)) # 2\n",
        "  print(sol.findLength([0, 1, 0, 1, 1, 1, 0, 1, 1, 1, 1, 1, 1], 3)) # 13\n",
        "\n",
        "\n",
        "main()"
      ],
      "metadata": {
        "colab": {
          "base_uri": "https://localhost:8080/"
        },
        "id": "NKovGmfT6R6h",
        "outputId": "95657205-ddb2-4ffb-921d-88dc54963f75"
      },
      "execution_count": null,
      "outputs": [
        {
          "output_type": "stream",
          "name": "stdout",
          "text": [
            "6\n",
            "9\n",
            "6\n",
            "2\n",
            "13\n"
          ]
        }
      ]
    },
    {
      "cell_type": "markdown",
      "source": [
        "## Problem Challenge 1: Permutation in a String (hard)\n",
        "Status: ✅"
      ],
      "metadata": {
        "id": "GXQ2XzLH93Wi"
      }
    },
    {
      "cell_type": "code",
      "source": [
        "from collections import Counter\n",
        "\n",
        "class Solution:\n",
        "  # 45 m\n",
        "  # Runtime: O(n)\n",
        "  # Space: O(n)\n",
        "  def findPermutation(self, str1, pattern):\n",
        "    if len(pattern) > len(str1):\n",
        "      return False\n",
        "    patternCounter = Counter(pattern)\n",
        "    strCounter = Counter()\n",
        "    validCounter, left = 0, 0\n",
        "\n",
        "    for i in range(len(pattern)):\n",
        "      char = str1[i]\n",
        "      if char in patternCounter:\n",
        "        if strCounter[char] < patternCounter[char]:\n",
        "          validCounter += 1\n",
        "        strCounter[char] += 1\n",
        "    if validCounter == len(pattern):\n",
        "      return True\n",
        "\n",
        "    for i in range(len(pattern), len(str1)):\n",
        "      char = str1[i]\n",
        "      if char in patternCounter:\n",
        "        if strCounter[char] < patternCounter[char]:\n",
        "          validCounter += 1\n",
        "        strCounter[char] += 1\n",
        "      outChar = str1[left]\n",
        "      if outChar in patternCounter:\n",
        "        if strCounter[outChar] <= patternCounter[outChar]:\n",
        "          validCounter -= 1\n",
        "        strCounter[outChar] -= 1\n",
        "      left += 1\n",
        "\n",
        "      if validCounter == len(pattern):\n",
        "        return True\n",
        "\n",
        "    return validCounter == len(pattern)\n",
        "\n",
        "\n",
        "\n",
        "\n",
        "\n",
        "\n",
        "def main():\n",
        "  sol = Solution()\n",
        "  print(sol.findPermutation(\"oidbcaf\", \"abc\")) # True\n",
        "  print(sol.findPermutation(\"odicf\", \"dc\")) # False\n",
        "  print(sol.findPermutation(\"bcdxabcdy\", \"bcdyabcdx\" )) # True\n",
        "  print(sol.findPermutation(\"aaacb\", \"abc\")) # True\n",
        "\n",
        "  print(sol.findPermutation('abc', 'abs')) # False\n",
        "  print(sol.findPermutation('abc', 'absd')) # False\n",
        "\n",
        "  print(sol.findPermutation(\"abcabcabc\", \"abcd\")) # False\n",
        "\n",
        "\n",
        "main()"
      ],
      "metadata": {
        "colab": {
          "base_uri": "https://localhost:8080/"
        },
        "id": "jylBIl8G95A_",
        "outputId": "469a8f3b-ac97-4f55-8bb2-a4103a120ebb"
      },
      "execution_count": null,
      "outputs": [
        {
          "output_type": "stream",
          "name": "stdout",
          "text": [
            "True\n",
            "False\n",
            "True\n",
            "True\n",
            "False\n",
            "False\n",
            "False\n"
          ]
        }
      ]
    },
    {
      "cell_type": "markdown",
      "source": [
        "## Problem Challenge 2: String Anagrams (hard)\n",
        "Status: ✅"
      ],
      "metadata": {
        "id": "CDtYxgLe_3w9"
      }
    },
    {
      "cell_type": "code",
      "source": [
        "class Solution:\n",
        "  # 25 m\n",
        "  # Runtime: O(n)\n",
        "  # Space: O(n), since result could be proportionate to the string\n",
        "  def findStringAnagrams(self, str1, pattern):\n",
        "    result = []\n",
        "    patternCounter = {}\n",
        "    for char in pattern:\n",
        "      if char not in patternCounter:\n",
        "        patternCounter[char] = 0\n",
        "      patternCounter[char] += 1\n",
        "\n",
        "    matchedChars, left = 0, 0\n",
        "    for right in range(len(str1)):\n",
        "      charIn = str1[right]\n",
        "      if charIn in patternCounter:\n",
        "        patternCounter[charIn] -= 1\n",
        "        if patternCounter[charIn] == 0:\n",
        "          matchedChars += 1\n",
        "      if right - left + 1 > len(pattern):\n",
        "        charOut = str1[left]\n",
        "        if charOut in patternCounter:\n",
        "          if patternCounter[charOut] == 0:\n",
        "            matchedChars -= 1\n",
        "          patternCounter[charOut] += 1\n",
        "        left += 1\n",
        "      if matchedChars == len(patternCounter):\n",
        "        result.append(left)\n",
        "\n",
        "    return result\n",
        "\n",
        "\n",
        "def main():\n",
        "  sol = Solution()\n",
        "  print(sol.findStringAnagrams(\"ppqp\", \"pq\")) # [1, 2]\n",
        "  print(sol.findStringAnagrams(\"abbcabc\", \"abc\")) # [2, 3, 4]\n",
        "  print(sol.findStringAnagrams(\"testest\", \"est\")) # [0, 1, 2, 3, 4]\n",
        "\n",
        "  print(sol.findStringAnagrams(\"pq\", \"pq\")) # [0]\n",
        "  print(sol.findStringAnagrams(\"pp\", \"pq\")) # []\n",
        "  print(sol.findStringAnagrams(\"pp\", \"pqq\")) # []\n",
        "\n",
        "  print(sol.findStringAnagrams(\"helloworld\", \"world\")) # [5]\n",
        "\n",
        "\n",
        "main()"
      ],
      "metadata": {
        "colab": {
          "base_uri": "https://localhost:8080/"
        },
        "id": "LNtOblSu_34W",
        "outputId": "738818db-c4a8-4a02-935a-be91e96c48ba"
      },
      "execution_count": null,
      "outputs": [
        {
          "output_type": "stream",
          "name": "stdout",
          "text": [
            "[1, 2]\n",
            "[2, 3, 4]\n",
            "[0, 1, 2, 3, 4]\n",
            "[0]\n",
            "[]\n",
            "[]\n",
            "[5]\n"
          ]
        }
      ]
    },
    {
      "cell_type": "markdown",
      "source": [
        "## Problem Challenge 3: Smallest Window containing Substring (hard)\n",
        "Status: ✅"
      ],
      "metadata": {
        "id": "uCSo8feWGwK8"
      }
    },
    {
      "cell_type": "code",
      "source": [
        "class Solution:\n",
        "  # 35 m\n",
        "  # Runtime: O(n)\n",
        "  # Space: O(1), since we only store patternCounter which is at most the size of alphabet\n",
        "  def findSubstring(self, str1, pattern):\n",
        "    minWindowSize = float('inf')\n",
        "    minWindowStart, minWindowEnd = -1, -1\n",
        "    matchedChars, left = 0, 0\n",
        "    patternCounter = {}\n",
        "    for char in pattern:\n",
        "      if char not in patternCounter:\n",
        "        patternCounter[char] = 0\n",
        "      patternCounter[char] += 1\n",
        "\n",
        "    for right in range(len(str1)):\n",
        "      charIn = str1[right]\n",
        "      if charIn in patternCounter:\n",
        "        patternCounter[charIn] -= 1\n",
        "        if patternCounter[charIn] == 0:\n",
        "          matchedChars += 1\n",
        "\n",
        "      while len(patternCounter) == matchedChars:\n",
        "        if right - left + 1 < minWindowSize:\n",
        "          minWindowSize =  right - left + 1\n",
        "          minWindowStart, minWindowEnd = left, right\n",
        "        charOut = str1[left]\n",
        "        if charOut in patternCounter:\n",
        "          if patternCounter[charOut] == 0:\n",
        "            matchedChars -= 1\n",
        "          patternCounter[charOut] += 1\n",
        "        left += 1\n",
        "\n",
        "    if minWindowStart == float('inf'):\n",
        "      return \"\"\n",
        "    return str1[minWindowStart:minWindowEnd + 1]\n",
        "\n",
        "\n",
        "def main():\n",
        "  sol = Solution()\n",
        "  print(sol.findSubstring(\"aabdec\", \"abc\")) # \"abdec\"\n",
        "  print(sol.findSubstring(\"aabdec\", \"abac\")) # \"aabdec\"\n",
        "  print(sol.findSubstring(\"abdbca\", \"abc\")) # \"bca\"\n",
        "  print(sol.findSubstring(\"adcad\", \"abc\")) # \"\"\n",
        "\n",
        "\n",
        "\n",
        "main()"
      ],
      "metadata": {
        "colab": {
          "base_uri": "https://localhost:8080/"
        },
        "id": "A_iAFzFUGxrh",
        "outputId": "aca957dd-aef2-43ad-bbd5-1787869915c1"
      },
      "execution_count": null,
      "outputs": [
        {
          "output_type": "stream",
          "name": "stdout",
          "text": [
            "abdec\n",
            "aabdec\n",
            "bca\n",
            "\n"
          ]
        }
      ]
    },
    {
      "cell_type": "markdown",
      "source": [
        "## Problem Challenge 4: Words Concatenation (hard)\n",
        "Status: ✅"
      ],
      "metadata": {
        "id": "ZMI8dTC3JM2s"
      }
    },
    {
      "cell_type": "code",
      "source": [
        "class Solution:\n",
        "  # 45 m\n",
        "  # Runtime: O(m + n)m since we need to create two sets and then iterate over str1 (also might need to consider length of the word l, so technically O(m * l + n))\n",
        "  # Space: O(m), since we're storing every word in wordSet + possibly up to n answers in result, so O(m + n)\n",
        "  def findWordConcatenation(self, str1, words):\n",
        "    result = []\n",
        "    wordsSet, matched = set(words), set()\n",
        "    left, right = 0, 0\n",
        "\n",
        "    wordLen = len(words[0])\n",
        "    while right < len(str1) - wordLen + 1:\n",
        "      curWord = str1[right:right + wordLen]\n",
        "      if curWord in wordsSet:\n",
        "        while curWord in matched:\n",
        "          prevWord = str1[left:left + wordLen]\n",
        "          matched.remove(prevWord)\n",
        "          left += wordLen\n",
        "        matched.add(curWord)\n",
        "        right += wordLen\n",
        "      else:\n",
        "        right = left + 1\n",
        "        left = right\n",
        "        matched = set()\n",
        "\n",
        "      if len(wordsSet) == len(matched):\n",
        "        result.append(left)\n",
        "\n",
        "    return result\n",
        "\n",
        "\n",
        "def main():\n",
        "  sol= Solution()\n",
        "  print(sol.findWordConcatenation(\"catfoxcat\", [\"cat\", \"fox\"])) # [0, 3]\n",
        "  print(sol.findWordConcatenation(\"catcatfoxfox\", [\"cat\", \"fox\"])) # [3]\n",
        "\n",
        "  print(sol.findWordConcatenation(\"aaaaaaaa\", [\"cat\", \"fox\"])) # []\n",
        "  print(sol.findWordConcatenation(\"abbaaaaaaa\", [\"ab\", \"ba\"])) # [0]\n",
        "\n",
        "  print(sol.findWordConcatenation(\"mississippi\", [\"is\",\"si\"])) # [1, 4]\n",
        "\n",
        "\n",
        "main()"
      ],
      "metadata": {
        "colab": {
          "base_uri": "https://localhost:8080/"
        },
        "id": "imBoxeI_JNA6",
        "outputId": "07eaca00-d346-45dd-acfa-93e4c7ada0cc"
      },
      "execution_count": null,
      "outputs": [
        {
          "output_type": "stream",
          "name": "stdout",
          "text": [
            "[0, 3]\n",
            "[3]\n",
            "[]\n",
            "[0]\n",
            "[1, 4]\n"
          ]
        }
      ]
    },
    {
      "cell_type": "markdown",
      "source": [
        "# Pattern: Merge Intervals"
      ],
      "metadata": {
        "id": "9-Hixr_xXwF6"
      }
    },
    {
      "cell_type": "markdown",
      "source": [
        "## Merge Intervals (medium)\n",
        "Status: ✅"
      ],
      "metadata": {
        "id": "V5givZThYNnp"
      }
    },
    {
      "cell_type": "code",
      "source": [
        "class Interval:\n",
        "  def __init__(self, start, end):\n",
        "    self.start = start\n",
        "    self.end = end\n",
        "\n",
        "\n",
        "class Solution:\n",
        "  # 15 m\n",
        "  # Runtime: O(nlogn)\n",
        "  # Space: O(n) if the intervals disjoint\n",
        "  def merge(self, intervals):\n",
        "    result = []\n",
        "    intervals.sort(key = lambda x: x.start)\n",
        "    prevStart, prevEnd = intervals[0].start, intervals[0].end\n",
        "    for i in range(1, len(intervals)):\n",
        "      curStart, curEnd = intervals[i].start, intervals[i].end\n",
        "      if curStart <= prevEnd:\n",
        "        prevEnd = max(prevEnd, curEnd)\n",
        "      else:\n",
        "        result.append(Interval(prevStart, prevEnd))\n",
        "        prevStart, prevEnd = curStart, curEnd\n",
        "    result.append(Interval(prevStart, prevEnd))\n",
        "    return result\n",
        "\n",
        "\n",
        "\n",
        "def print_interval(self):\n",
        "  print(\"[\" + str(self.start) + \", \" + str(self.end) + \"]\", end='')\n",
        "\n",
        "\n",
        "def main():\n",
        "  sol = Solution()\n",
        "  print(\"Merged intervals: \", end='')\n",
        "  for i in sol.merge([Interval(1, 4), Interval(2, 5), Interval(7, 9)]):\n",
        "    print_interval(i)\n",
        "  print()\n",
        "\n",
        "  print(\"Merged intervals: \", end='')\n",
        "  for i in sol.merge([Interval(6, 7), Interval(2, 4), Interval(5, 9)]):\n",
        "    print_interval(i)\n",
        "  print()\n",
        "\n",
        "  print(\"Merged intervals: \", end='')\n",
        "  for i in sol.merge([Interval(1, 4), Interval(2, 6), Interval(3, 5)]):\n",
        "    print_interval(i)\n",
        "  print()\n",
        "\n",
        "  print(\"Merged intervals: \", end='')\n",
        "  for i in sol.merge([Interval(1, 4)]):\n",
        "    print_interval(i)\n",
        "  print()\n",
        "\n",
        "\n",
        "\n",
        "main()"
      ],
      "metadata": {
        "colab": {
          "base_uri": "https://localhost:8080/"
        },
        "id": "zfzFnUTBYNwt",
        "outputId": "240ef069-a278-4069-8b5b-7f95f226eeab"
      },
      "execution_count": null,
      "outputs": [
        {
          "output_type": "stream",
          "name": "stdout",
          "text": [
            "Merged intervals: [1, 5][7, 9]\n",
            "Merged intervals: [2, 4][5, 9]\n",
            "Merged intervals: [1, 6]\n",
            "Merged intervals: [1, 4]\n"
          ]
        }
      ]
    },
    {
      "cell_type": "markdown",
      "source": [
        "## Insert Interval (medium)\n",
        "Status: Solved, but needs revision"
      ],
      "metadata": {
        "id": "uuryrgI3ch-a"
      }
    },
    {
      "cell_type": "code",
      "source": [
        "class Interval:\n",
        "  def __init__(self, start, end):\n",
        "    self.start = start\n",
        "    self.end = end\n",
        "\n",
        "class Solution:\n",
        "  # 44 m first attempt\n",
        "  # 37 m\n",
        "  # Runtime: O(n)\n",
        "  # Space: O(n)\n",
        "  def insert(self, intervals, new_interval):\n",
        "    merged = []\n",
        "    prevStart, prevEnd = intervals[0].start, intervals[0].end\n",
        "    if new_interval.end < prevStart:\n",
        "      return [new_interval] + intervals\n",
        "    if intervals[len(intervals) - 1].end < new_interval.start:\n",
        "      intervals.append(new_interval)\n",
        "      return intervals\n",
        "    notInserted = True\n",
        "    if new_interval.end <= prevEnd:\n",
        "      prevStart, prevEnd = min(intervals[0].start, new_interval.start), max(intervals[0].end, new_interval.end)\n",
        "      notInserted = False\n",
        "\n",
        "    for i in range(1, len(intervals)):\n",
        "      curStart, curEnd = intervals[i].start, intervals[i].end\n",
        "      if notInserted:\n",
        "        if new_interval.start <= prevEnd:\n",
        "          prevStart = min(prevStart, new_interval.start)\n",
        "          prevEnd = max(prevEnd, new_interval.end)\n",
        "          notInserted = False\n",
        "        elif prevEnd < new_interval.start and curStart > new_interval.end:\n",
        "          merged.append(Interval(new_interval.start, new_interval.end))\n",
        "          notInserted = False\n",
        "\n",
        "      if curStart <= prevEnd:\n",
        "        prevEnd = max(prevEnd, curEnd)\n",
        "      else:\n",
        "        merged.append(Interval(prevStart, prevEnd))\n",
        "        prevStart, prevEnd = curStart, curEnd\n",
        "    merged.append(Interval(prevStart, prevEnd))\n",
        "\n",
        "    return merged\n",
        "\n",
        "\n",
        "def print_interval(i):\n",
        "  print(\"[\" + str(i.start) + \", \" + str(i.end) + \"]\", end='')\n",
        "\n",
        "\n",
        "def main():\n",
        "  sol = Solution()\n",
        "  intervals = [Interval(1, 3), Interval(5, 7), Interval(8, 12)]\n",
        "  print(\"Intervals after inserting the new interval: \",end=\"\")\n",
        "  for i in (sol.insert(intervals, Interval(4, 6))):\n",
        "    print_interval(i)\n",
        "  print() # [1,3][4,7][8,12]\n",
        "\n",
        "  intervals = [Interval(1, 3), Interval(5, 7), Interval(8, 12)]\n",
        "  print(\"Intervals after inserting the new interval: \",end=\"\")\n",
        "  for i in (sol.insert(intervals, Interval(4, 10))):\n",
        "    print_interval(i)\n",
        "  print() # [1, 3][4, 12]\n",
        "\n",
        "  intervals = [Interval(2, 3), Interval(5, 7)]\n",
        "  print(\"Intervals after inserting the new interval: \",end=\"\")\n",
        "  for i in (sol.insert(intervals, Interval(1, 4))):\n",
        "    print_interval(i)\n",
        "  print() # [1, 4][5, 7]\n",
        "\n",
        "  intervals = [Interval(5, 7)]\n",
        "  print(\"Intervals after inserting the new interval: \",end=\"\")\n",
        "  for i in (sol.insert(intervals, Interval(1, 4))):\n",
        "    print_interval(i)\n",
        "  print() # [1, 4][5, 7]\n",
        "\n",
        "  intervals = [Interval(2, 3), Interval(5, 7)]\n",
        "  print(\"Intervals after inserting the new interval: \",end=\"\")\n",
        "  for i in (sol.insert(intervals, Interval(9, 12))):\n",
        "    print_interval(i)\n",
        "  print() # [2, 3][5, 7][9, 12]\n",
        "\n",
        "  intervals = [Interval(2, 3), Interval(5, 7)]\n",
        "  print(\"Intervals after inserting the new interval: \",end=\"\")\n",
        "  for i in (sol.insert(intervals, Interval(1, 8))):\n",
        "    print_interval(i)\n",
        "  print() # [1, 8]\n",
        "\n",
        "  intervals = [Interval(1, 3), Interval(5, 7), Interval(8, 12)]\n",
        "  print(\"Intervals after inserting the new interval: \",end=\"\")\n",
        "  for i in (sol.insert(intervals, Interval(0, 2))):\n",
        "    print_interval(i)\n",
        "  print() # [[0,3],[5,7],[8,12]]\n",
        "\n",
        "\n",
        "main()"
      ],
      "metadata": {
        "colab": {
          "base_uri": "https://localhost:8080/"
        },
        "id": "WdOHerJ4cjYb",
        "outputId": "9aaa5798-d816-4dc6-e15c-9d73ec306d9d"
      },
      "execution_count": null,
      "outputs": [
        {
          "output_type": "stream",
          "name": "stdout",
          "text": [
            "Intervals after inserting the new interval: [1, 3][4, 7][8, 12]\n",
            "Intervals after inserting the new interval: [1, 3][4, 12]\n",
            "Intervals after inserting the new interval: [1, 4][5, 7]\n",
            "Intervals after inserting the new interval: [1, 4][5, 7]\n",
            "Intervals after inserting the new interval: [2, 3][5, 7][9, 12]\n",
            "Intervals after inserting the new interval: [1, 8]\n",
            "Intervals after inserting the new interval: [0, 3][5, 7][8, 12]\n"
          ]
        }
      ]
    },
    {
      "cell_type": "markdown",
      "source": [
        "## Intervals Intersection (medium)\n",
        "Status: ✅"
      ],
      "metadata": {
        "id": "O1EfvxsDk5PJ"
      }
    },
    {
      "cell_type": "code",
      "source": [
        "class Interval:\n",
        "  def __init__(self, start, end):\n",
        "    self.start = start\n",
        "    self.end = end\n",
        "\n",
        "\n",
        "class Solution:\n",
        "  # 23 m\n",
        "  # Runtime: O(m + n)\n",
        "  # Space: O(m + n) (O(1) if not counting the result)\n",
        "  def merge(self, intervals_a, intervals_b):\n",
        "    result = []\n",
        "    i, j = 0, 0\n",
        "    while i < len(intervals_a) and j < len(intervals_b):\n",
        "      a, b = intervals_a[i], intervals_b[j]\n",
        "      if a.end < b.start:\n",
        "        i += 1\n",
        "      elif b.end < a.start:\n",
        "        j += 1\n",
        "      else:\n",
        "        result.append(Interval(max(a.start, b.start), min(a.end, b.end)))\n",
        "        if a.end < b.end:\n",
        "          i += 1\n",
        "        else:\n",
        "          j += 1\n",
        "\n",
        "    return result\n",
        "\n",
        "\n",
        "def print_interval(i):\n",
        "  print(\"[\" + str(i.start) + \", \" + str(i.end) + \"]\", end='')\n",
        "\n",
        "\n",
        "def main():\n",
        "  sol = Solution()\n",
        "  intervals_a = [Interval(1, 3), Interval(5, 6), Interval(7, 9)]\n",
        "  intervals_b = [Interval(2, 3), Interval(5, 7)]\n",
        "  print(\"Intervals Intersection: \", end=\"\")\n",
        "  for i in sol.merge(intervals_a,intervals_b): # [2, 3], [5, 6], [7, 7]\n",
        "    print_interval(i)\n",
        "  print('')\n",
        "\n",
        "  intervals_a = [Interval(1, 3), Interval(5, 7), Interval(9, 12)]\n",
        "  intervals_b = [Interval(5, 10)]\n",
        "  print(\"Intervals Intersection: \", end=\"\")\n",
        "  for i in sol.merge(intervals_a,intervals_b): # [5, 7], [9, 10]\n",
        "    print_interval(i)\n",
        "  print('')\n",
        "\n",
        "  intervals_a = [Interval(1, 3), Interval(5, 7), Interval(9, 12)]\n",
        "  intervals_b = [Interval(13, 15)]\n",
        "  print(\"Intervals Intersection: \", end=\"\")\n",
        "  for i in sol.merge(intervals_a,intervals_b): # []\n",
        "    print_interval(i)\n",
        "  print('')\n",
        "\n",
        "  intervals_a = [Interval(3, 4), Interval(5, 7), Interval(9, 12)]\n",
        "  intervals_b = [Interval(1, 2)]\n",
        "  print(\"Intervals Intersection: \", end=\"\")\n",
        "  for i in sol.merge(intervals_a,intervals_b): # []\n",
        "    print_interval(i)\n",
        "  print('')\n",
        "\n",
        "  intervals_a = [Interval(3, 4), Interval(5, 7), Interval(9, 12)]\n",
        "  intervals_b = []\n",
        "  print(\"Intervals Intersection: \", end=\"\")\n",
        "  for i in sol.merge(intervals_a,intervals_b): # []\n",
        "    print_interval(i)\n",
        "  print('')\n",
        "\n",
        "  intervals_a = [Interval(3, 4), Interval(5, 7), Interval(9, 12)]\n",
        "  intervals_b = [Interval(1, 13)]\n",
        "  print(\"Intervals Intersection: \", end=\"\")\n",
        "  for i in sol.merge(intervals_a,intervals_b): # [3, 4][5, 7][9, 12]\n",
        "    print_interval(i)\n",
        "  print('')\n",
        "\n",
        "main()"
      ],
      "metadata": {
        "colab": {
          "base_uri": "https://localhost:8080/"
        },
        "id": "O2jqU0ZDk6w8",
        "outputId": "3e3c501c-35ce-47db-f8ce-3eb615af80a8"
      },
      "execution_count": null,
      "outputs": [
        {
          "output_type": "stream",
          "name": "stdout",
          "text": [
            "Intervals Intersection: [2, 3][5, 6][7, 7]\n",
            "Intervals Intersection: [5, 7][9, 10]\n",
            "Intervals Intersection: \n",
            "Intervals Intersection: \n",
            "Intervals Intersection: \n",
            "Intervals Intersection: [3, 4][5, 7][9, 12]\n"
          ]
        }
      ]
    },
    {
      "cell_type": "markdown",
      "source": [
        "## Conflicting Appointments (medium)\n",
        "Status: ✅"
      ],
      "metadata": {
        "id": "iDsVa-fwrJbo"
      }
    },
    {
      "cell_type": "code",
      "source": [
        "class Interval:\n",
        "  def __init__(self, start, end):\n",
        "    self.start = start\n",
        "    self.end = end\n",
        "\n",
        "  def print_interval(self):\n",
        "    print(\"[\" + str(self.start) + \", \" + str(self.end) + \"]\", end='')\n",
        "\n",
        "\n",
        "class Solution:\n",
        "  # 11 m\n",
        "  # Runtime: O(nlogn) due to sorting\n",
        "  # Space: O(n) due to sorting (although technically 'sort' is in place)\n",
        "  def canAttendAllAppointments(self, intervals):\n",
        "    intervals.sort(key = lambda x: x.start)\n",
        "    prevStart, prevEnd = intervals[0].start, intervals[0].end\n",
        "    for i in range(1, len(intervals)):\n",
        "      curStart, curEnd = intervals[i].start, intervals[i].end\n",
        "      if prevEnd > curStart:\n",
        "        return False\n",
        "      prevStart, prevEnd = curStart, curEnd\n",
        "    return True\n",
        "\n",
        "\n",
        "def main():\n",
        "  sol = Solution()\n",
        "\n",
        "  sol = Solution()\n",
        "  print(\"Can attend all appointments: \" +\n",
        "            str(sol.canAttendAllAppointments([Interval(1, 4), Interval(2, 5), Interval(7, 9)]))) # False\n",
        "  print(\"Can attend all appointments: \" +\n",
        "            str(sol.canAttendAllAppointments([Interval(6, 7), Interval(2, 4),Interval(8, 12)]))) # True\n",
        "  print(\"Can attend all appointments: \" +\n",
        "            str(sol.canAttendAllAppointments([Interval(4, 5), Interval(2, 3), Interval(3, 6)]))) # False\n",
        "\n",
        "\n",
        "\n",
        "\n",
        "main()"
      ],
      "metadata": {
        "colab": {
          "base_uri": "https://localhost:8080/"
        },
        "id": "9MpNkJwurK37",
        "outputId": "55f244df-79e3-4443-859f-99f55c2d79de"
      },
      "execution_count": null,
      "outputs": [
        {
          "output_type": "stream",
          "name": "stdout",
          "text": [
            "Can attend all appointments: False\n",
            "Can attend all appointments: True\n",
            "Can attend all appointments: False\n"
          ]
        }
      ]
    },
    {
      "cell_type": "markdown",
      "source": [
        "## Problem Challenge 1: Minimum Meeting Rooms (hard)\n",
        "Status: ✅"
      ],
      "metadata": {
        "id": "An-XxUnZhwVs"
      }
    },
    {
      "cell_type": "code",
      "source": [
        "import heapq\n",
        "\n",
        "class Meeting:\n",
        "  def __init__(self, start, end):\n",
        "    self.start = start\n",
        "    self.end = end\n",
        "\n",
        "# You can override/modify __lt__ as per your need\n",
        "setattr(Meeting, \"__lt__\", lambda self, other: self.start <= other.start)\n",
        "\n",
        "\n",
        "class Solution:\n",
        "  # 29 m\n",
        "  # Runtime: O(nlogn)\n",
        "  # Space: O(n), since sorting taken O(n) and the heap can grow up to n\n",
        "  def findMinimumMeetingRooms(self, meetings):\n",
        "    meetings.sort()\n",
        "    minRooms = 1\n",
        "    prevStart, prevEnd = meetings[0].start, meetings[0].end\n",
        "    meetingEnds = [prevEnd]\n",
        "    for i in range(1, len(meetings)):\n",
        "      curStart, curEnd = meetings[i].start, meetings[i].end\n",
        "      if curStart <= prevEnd:\n",
        "        while meetingEnds and meetingEnds[0] <= curStart:\n",
        "          heapq.heappop(meetingEnds)\n",
        "        heapq.heappush(meetingEnds, curEnd)\n",
        "        minRooms = max(minRooms, len(meetingEnds))\n",
        "      revStart, prevEnd = curStart, curEnd\n",
        "    return minRooms\n",
        "\n",
        "\n",
        "\n",
        "def main():\n",
        "  sol = Solution()\n",
        "  inputs = [\n",
        "        [Meeting(1, 4), Meeting(2, 5), Meeting(7, 9)], # 2\n",
        "        [Meeting(6, 7), Meeting(2, 4), Meeting(8, 12)], # 1\n",
        "        [Meeting(1, 4), Meeting(2, 3), Meeting(3, 6)], # 2\n",
        "        [Meeting(4, 5), Meeting(2, 3), Meeting(2, 4), Meeting(3, 5)], # 2\n",
        "        [Meeting(4, 5)], # 1\n",
        "        [Meeting(1, 8), Meeting(2, 8), Meeting(7, 9)], # 3\n",
        "        [Meeting(1, 3), Meeting(3, 5), Meeting(4, 7)] # 2\n",
        "    ]\n",
        "\n",
        "  for input in inputs:\n",
        "    result = sol.findMinimumMeetingRooms(input)\n",
        "    print(\"Minimum meeting rooms required:\", result)\n",
        "\n",
        "\n",
        "\n",
        "\n",
        "main()"
      ],
      "metadata": {
        "colab": {
          "base_uri": "https://localhost:8080/"
        },
        "id": "NX7pqGXlhwkK",
        "outputId": "658dc1ca-7d0a-45c0-fa9d-93e981a2852d"
      },
      "execution_count": null,
      "outputs": [
        {
          "output_type": "stream",
          "name": "stdout",
          "text": [
            "Minimum meeting rooms required: 2\n",
            "Minimum meeting rooms required: 1\n",
            "Minimum meeting rooms required: 2\n",
            "Minimum meeting rooms required: 2\n",
            "Minimum meeting rooms required: 1\n",
            "Minimum meeting rooms required: 3\n",
            "Minimum meeting rooms required: 2\n"
          ]
        }
      ]
    },
    {
      "cell_type": "markdown",
      "source": [
        "## Problem Challenge 2: Maximum CPU Load (hard)\n",
        "Status: ✅"
      ],
      "metadata": {
        "id": "qsvyqffwxiea"
      }
    },
    {
      "cell_type": "code",
      "source": [
        "from heapq import *\n",
        "\n",
        "\n",
        "class Job:\n",
        "  def __init__(self, start, end, cpu_load):\n",
        "    self.start = start\n",
        "    self.end = end\n",
        "    self.cpuLoad = cpu_load\n",
        "\n",
        "# You can override/modify __lt__ as per your need\n",
        "#setattr(Job, \"__lt__\", lambda self, other: write logic here)\n",
        "\n",
        "class Solution:\n",
        "  # 13 m\n",
        "  # Runtime: O(nlogn)\n",
        "  # Space: O(n) due to sorting and maintaining heap\n",
        "  def findMaxCPULoad(self, jobs):\n",
        "    jobs.sort(key=lambda x: x.start)\n",
        "    max_cpu_load = 0\n",
        "    concurrentJobs = []\n",
        "    curLoad = 0\n",
        "    for job in jobs:\n",
        "      while concurrentJobs and concurrentJobs[0][0] <= job.start:\n",
        "        curLoad -= concurrentJobs[0][1]\n",
        "        heappop(concurrentJobs)\n",
        "      heappush(concurrentJobs, [job.end, job.cpuLoad])\n",
        "      curLoad += job.cpuLoad\n",
        "      max_cpu_load = max(max_cpu_load, curLoad)\n",
        "    return max_cpu_load\n",
        "\n",
        "\n",
        "def main():\n",
        "  sol = Solution()\n",
        "  print(\"Maximum CPU load at any time: \" +\n",
        "            str(sol.findMaxCPULoad([Job(1, 4, 3), Job(2, 5, 4), Job(7, 9, 6)]))) # 7\n",
        "  print(\"Maximum CPU load at any time: \" +\n",
        "            str(sol.findMaxCPULoad([Job(6, 7, 10), Job(2, 4, 11), Job(8, 12, 15)]))) # 15\n",
        "  print(\"Maximum CPU load at any time: \" +\n",
        "            str(sol.findMaxCPULoad([Job(1, 4, 2), Job(2, 4, 1), Job(3, 6, 5)]))) # 8\n",
        "\n",
        "main()"
      ],
      "metadata": {
        "colab": {
          "base_uri": "https://localhost:8080/"
        },
        "id": "uxxsxu3Mxirx",
        "outputId": "f43fc7db-d2e0-48ae-cf4b-2d7e74c4110f"
      },
      "execution_count": null,
      "outputs": [
        {
          "output_type": "stream",
          "name": "stdout",
          "text": [
            "Maximum CPU load at any time: 7\n",
            "Maximum CPU load at any time: 15\n",
            "Maximum CPU load at any time: 8\n"
          ]
        }
      ]
    },
    {
      "cell_type": "markdown",
      "source": [
        "## Problem Challenge 3: Employee Free Time (hard)\n",
        "Status: ❌"
      ],
      "metadata": {
        "id": "twkXdhSyG4O0"
      }
    },
    {
      "cell_type": "code",
      "source": [
        "from heapq import *\n",
        "\n",
        "class Interval:\n",
        "    def __init__(self, start, end):\n",
        "        self.start = start\n",
        "        self.end = end\n",
        "\n",
        "class EmployeeInterval:\n",
        "\n",
        "    def __init__(self, interval, employeeIndex, intervalIndex):\n",
        "        self.interval = interval  # interval representing employee's working hours\n",
        "        # index of the list containing working hours of this employee\n",
        "        self.employeeIndex = employeeIndex\n",
        "        self.intervalIndex = intervalIndex  # index of the interval in the employee list\n",
        "\n",
        "    def __lt__(self, other):\n",
        "        # min heap based on meeting.end\n",
        "        return self.interval.start < other.interval.start\n",
        "\n",
        "class Solution:\n",
        "  def findOverlap(self, schedule, idx, freeStart, freeEnd, result):\n",
        "    if idx == len(schedule):\n",
        "      result.append(Interval(freeStart, freeEnd))\n",
        "      return\n",
        "    prevStart, prevEnd = schedule[idx][0].start, schedule[idx][0].end\n",
        "    for i in range(1, len(schedule[idx])):\n",
        "      curStart, curEnd = schedule[idx][i].start, schedule[idx][i].end\n",
        "      newStart, newEnd = max(freeStart, prevEnd), min(freeEnd, curStart)\n",
        "      if newStart <= newEnd:\n",
        "        self.findOverlap(schedule, idx+1, newStart, newEnd, result)\n",
        "\n",
        "\n",
        "  def findEmployeeFreeTime(self, schedule):\n",
        "      result = []\n",
        "      for i in range(len(schedule)):\n",
        "        schedule[i].sort(key=lambda x: x.start)\n",
        "      self.findOverlap(schedule, 0, float('-inf'), float('inf'), result)\n",
        "      return result\n",
        "\n",
        "\n",
        "def print_interval(i):\n",
        "    print(\"[\" + str(i.start) + \", \" + str(i.end) + \"]\", end='')\n",
        "\n",
        "def main():\n",
        "  sol = Solution()\n",
        "  input = [[Interval(1, 3), Interval(5, 6)], [\n",
        "      Interval(2, 3), Interval(6, 8)]]\n",
        "  print(\"Free intervals: \", end='')\n",
        "  for interval in sol.findEmployeeFreeTime(input):\n",
        "      print_interval(interval)\n",
        "  print()\n",
        "\n",
        "  input = [[Interval(1, 3), Interval(9, 12)], [\n",
        "      Interval(2, 4)], [Interval(6, 8)]]\n",
        "  print(\"Free intervals: \", end='')\n",
        "  for interval in sol.findEmployeeFreeTime(input):\n",
        "      print_interval(interval)\n",
        "  print()\n",
        "\n",
        "  input = [[Interval(1, 3)], [\n",
        "      Interval(2, 4)], [Interval(3, 5), Interval(7, 9)]]\n",
        "  print(\"Free intervals: \", end='')\n",
        "  for interval in sol.findEmployeeFreeTime(input):\n",
        "      print_interval(interval)\n",
        "  print()\n",
        "\n",
        "\n",
        "main()\n"
      ],
      "metadata": {
        "colab": {
          "base_uri": "https://localhost:8080/"
        },
        "id": "HbUj3PFPG4Y4",
        "outputId": "0bde290d-98c9-45e8-da7f-f7b0aec1cfc4"
      },
      "execution_count": 11,
      "outputs": [
        {
          "output_type": "stream",
          "name": "stdout",
          "text": [
            "Free intervals: [3, 5]\n",
            "Free intervals: \n",
            "Free intervals: \n"
          ]
        }
      ]
    }
  ]
}