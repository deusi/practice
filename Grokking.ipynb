{
  "nbformat": 4,
  "nbformat_minor": 0,
  "metadata": {
    "colab": {
      "provenance": [],
      "authorship_tag": "ABX9TyNi7hCbketGidrdUsy7RR+4",
      "include_colab_link": true
    },
    "kernelspec": {
      "name": "python3",
      "display_name": "Python 3"
    },
    "language_info": {
      "name": "python"
    }
  },
  "cells": [
    {
      "cell_type": "markdown",
      "metadata": {
        "id": "view-in-github",
        "colab_type": "text"
      },
      "source": [
        "<a href=\"https://colab.research.google.com/github/deusi/practice/blob/main/Grokking.ipynb\" target=\"_parent\"><img src=\"https://colab.research.google.com/assets/colab-badge.svg\" alt=\"Open In Colab\"/></a>"
      ]
    },
    {
      "cell_type": "markdown",
      "source": [
        "# Two Pointers"
      ],
      "metadata": {
        "id": "bjqeYmx3EiTd"
      }
    },
    {
      "cell_type": "markdown",
      "source": [
        "##Triplet Sum Close to Target (medium)\n",
        "\n",
        "Status: Incomplete ❌"
      ],
      "metadata": {
        "id": "SjQ-Xs5_E-cI"
      }
    },
    {
      "cell_type": "code",
      "execution_count": null,
      "metadata": {
        "colab": {
          "base_uri": "https://localhost:8080/"
        },
        "id": "zGq6KLNpCCiX",
        "outputId": "5a1f256a-a89a-46c6-cc65-7ee0a34cfbca"
      },
      "outputs": [
        {
          "output_type": "stream",
          "name": "stdout",
          "text": [
            "2\n",
            "0\n",
            "3\n",
            "4\n"
          ]
        }
      ],
      "source": [
        "import math\n",
        "\n",
        "class Solution:\n",
        "  def searchDouble(self, arr, left, cur_sum, target_sum):\n",
        "    right = len(arr) - 1\n",
        "    closest = cur_sum + arr[left] + arr[right]\n",
        "    while left < right:\n",
        "      curClosest = cur_sum + arr[left] + arr[right]\n",
        "      if target_sum - curClosest == 0:\n",
        "        return curClosest\n",
        "      elif target_sum - abs(target_sum - curClosest) > 0:\n",
        "        right -= 1\n",
        "      else:\n",
        "        left += 1\n",
        "\n",
        "      if abs(target_sum - curClosest) < abs(target_sum - closest):\n",
        "        closest = curClosest\n",
        "      elif abs(target_sum - curClosest) == abs(target_sum - closest) and curClosest < closest:\n",
        "        closest = curClosest\n",
        "\n",
        "    return closest\n",
        "\n",
        "\n",
        "\n",
        "  def searchTriplet(self, arr, target_sum):\n",
        "    arr.sort()\n",
        "    left = 0\n",
        "    closest = float('inf')\n",
        "    while left < len(arr) - 2:\n",
        "      curClosest = self.searchDouble(arr, left + 1, arr[left], target_sum)\n",
        "\n",
        "      if target_sum - curClosest == 0:\n",
        "        return curClosest\n",
        "\n",
        "      if abs(target_sum - curClosest) < abs(target_sum - closest):\n",
        "        closest = curClosest\n",
        "      elif abs(target_sum - curClosest) == abs(target_sum - closest) and curClosest < closest:\n",
        "        closest = curClosest\n",
        "\n",
        "      while left + 1 < len(arr) and arr[left] == arr[left + 1]:\n",
        "        left += 1\n",
        "      left += 1\n",
        "\n",
        "    return closest\n",
        "\n",
        "\n",
        "test = Solution()\n",
        "\n",
        "arr1 = [-1, 0, 2, 3]\n",
        "target_sum1 = 3\n",
        "print(test.searchTriplet(arr1, target_sum1)) #2\n",
        "\n",
        "arr2 = [-3, -1, 1, 2]\n",
        "target_sum2 = 1\n",
        "print(test.searchTriplet(arr2, target_sum2)) #0\n",
        "\n",
        "arr3 = [1, 0, 1, 1]\n",
        "target_sum3 = 100\n",
        "print(test.searchTriplet(arr3, target_sum3)) #3\n",
        "\n",
        "arr2 = [0, 0, 1, 1, 2, 6]\n",
        "target_sum2 = 5\n",
        "print(test.searchTriplet(arr2, target_sum2)) #4\n",
        "\n",
        "\n"
      ]
    },
    {
      "cell_type": "markdown",
      "source": [
        "## Triplets with Smaller Sum (medium)\n",
        "\n",
        "Status: Complete ✅"
      ],
      "metadata": {
        "id": "HCVChXLLF9Xx"
      }
    },
    {
      "cell_type": "code",
      "source": [
        "\n",
        "\n",
        "class Solution:\n",
        "  # 32 m\n",
        "  # Runtime: O(n^2)\n",
        "  # Space: O(1)\n",
        "  def searchTriplets(self, arr, target):\n",
        "    arr.sort()\n",
        "    counter = 0\n",
        "    for i in range(0, len(arr) - 2):\n",
        "      j = i + 1\n",
        "      k = len(arr) - 1\n",
        "      while j < k:\n",
        "        if arr[i] + arr[j] + arr[k] < target:\n",
        "          counter += (k - j)\n",
        "          j += 1\n",
        "        else:\n",
        "          k -= 1\n",
        "    return counter\n",
        "\n",
        "\n",
        "\n",
        "\n",
        "test = Solution()\n",
        "print(test.searchTriplets([-1, 0, 2, 3], 3)) # 2\n",
        "print(test.searchTriplets([-1, 4, 2, 1, 3], 5)) # 4    [-1, 1, 2, 3, 4] 1 1\n",
        "print(test.searchTriplets([1, 2, 3, 4, 5], 10)) # 6    [1, 2, 3, 4, 5]\n",
        "\n",
        "\n",
        "\n",
        "\n"
      ],
      "metadata": {
        "colab": {
          "base_uri": "https://localhost:8080/"
        },
        "id": "UJKAc84o5sY-",
        "outputId": "92b2233e-66ea-4b84-ca3c-46029afc3da5"
      },
      "execution_count": null,
      "outputs": [
        {
          "output_type": "stream",
          "name": "stdout",
          "text": [
            "2\n",
            "4\n",
            "6\n"
          ]
        }
      ]
    },
    {
      "cell_type": "markdown",
      "source": [
        "## Counting Subarrays with Product Less than a Target (medium)\n",
        "\n",
        "Status: Complete ✅"
      ],
      "metadata": {
        "id": "IHw9Tj2Jn06n"
      }
    },
    {
      "cell_type": "code",
      "source": [
        "class Solution:\n",
        "  # 37 m\n",
        "  # Runtime: O(n)\n",
        "  # Space: O(1)\n",
        "  def findSubarrays(self, nums, target):\n",
        "        totalCount = 0\n",
        "        left, right = 0, 0\n",
        "        totalProduct = 1\n",
        "        while right < len(nums):\n",
        "          if totalProduct * nums[right] < target:\n",
        "            totalCount += (right + 1 - left)\n",
        "            totalProduct *= nums[right]\n",
        "            right += 1\n",
        "          else:\n",
        "            totalProduct /= nums[left]\n",
        "            left += 1\n",
        "            right = max(left, right)\n",
        "        return totalCount\n",
        "\n",
        "\n",
        "\n",
        "test = Solution()\n",
        "\n",
        "print(test.findSubarrays([2, 5, 3, 10], 30)) # 6\n",
        "print(test.findSubarrays([8, 2, 6, 5], 50)) # 7\n",
        "print(test.findSubarrays([10, 5, 2, 6], 0)) # 0\n",
        "\n",
        "\n",
        "\n",
        "\n",
        "\n",
        "\n",
        "\n",
        "\n",
        "\n",
        "\n"
      ],
      "metadata": {
        "colab": {
          "base_uri": "https://localhost:8080/"
        },
        "id": "sWE6gNQNn1U8",
        "outputId": "1d55c4b4-a05b-48a1-c2a8-406b3ba3f599"
      },
      "execution_count": null,
      "outputs": [
        {
          "output_type": "stream",
          "name": "stdout",
          "text": [
            "6\n",
            "7\n",
            "0\n"
          ]
        }
      ]
    },
    {
      "cell_type": "markdown",
      "source": [
        "## Subarrays with Product Less than a Target (medium)\n",
        "\n",
        "Status: Complete ✅"
      ],
      "metadata": {
        "id": "7nyfQWxnntMN"
      }
    },
    {
      "cell_type": "code",
      "source": [
        "class Solution:\n",
        "  # 16 m\n",
        "  # Runtime: O(n^2)\n",
        "  # Space: O(n^2), since in the worst case every element goes into the result\n",
        "  def findSubarrays(self, arr, target):\n",
        "    result = []\n",
        "    subArrayProduct = 1\n",
        "    left, right = 0, 0\n",
        "    while right < len(arr):\n",
        "      if subArrayProduct * arr[right] < target:\n",
        "        subArrayProduct *= arr[right]\n",
        "        right += 1\n",
        "        for i in range(right - 1, left - 1, -1):\n",
        "          result.append(arr[i:right])\n",
        "      else:\n",
        "        subArrayProduct /= arr[left]\n",
        "        left += 1\n",
        "        right = max(left, right)\n",
        "    return result\n",
        "\n",
        "\n",
        "\n",
        "\n",
        "test = Solution()\n",
        "\n",
        "print(test.findSubarrays([2, 5, 3, 10], 30)) # 6\n",
        "print(test.findSubarrays([8, 2, 6, 5], 50)) # 7\n",
        "print(test.findSubarrays([10, 5, 2, 6], 0)) # 0\n",
        "\n",
        "print(test.findSubarrays([2, 5, 1, 10], 30))\n",
        "print(test.findSubarrays([1, 2, 3, 4, 5], 10))\n",
        "\n",
        "\n",
        "\n",
        "\n",
        "\n"
      ],
      "metadata": {
        "colab": {
          "base_uri": "https://localhost:8080/"
        },
        "id": "Mk2X70s1ntXS",
        "outputId": "5ed0527b-1022-4a71-d48f-471508d297ad"
      },
      "execution_count": null,
      "outputs": [
        {
          "output_type": "stream",
          "name": "stdout",
          "text": [
            "[[2], [5], [2, 5], [3], [5, 3], [10]]\n",
            "[[8], [2], [8, 2], [6], [2, 6], [5], [6, 5]]\n",
            "[]\n",
            "[[2], [5], [2, 5], [1], [5, 1], [2, 5, 1], [10], [1, 10]]\n",
            "[[1], [2], [1, 2], [3], [2, 3], [1, 2, 3], [4], [5]]\n"
          ]
        }
      ]
    },
    {
      "cell_type": "markdown",
      "source": [
        "##Dutch National Flag Problem (medium)\n",
        "\n",
        "Status: Complete ✅"
      ],
      "metadata": {
        "id": "S2LMT-WNvgQ-"
      }
    },
    {
      "cell_type": "code",
      "source": [
        "class Solution:\n",
        "  # 12 m\n",
        "  # Runtime: O(n)\n",
        "  # Space: O(1)\n",
        "  def sort(self, arr):\n",
        "    left, right = 0, len(arr) - 1\n",
        "    i = 0\n",
        "    while i <= right:\n",
        "      if arr[i] == 0 and left <= i:\n",
        "        arr[i], arr[left] = arr[left], arr[i]\n",
        "        left += 1\n",
        "      elif arr[i] == 2 and i <= right:\n",
        "        arr[i], arr[right] = arr[right], arr[i]\n",
        "        right -= 1\n",
        "      else:\n",
        "        i += 1\n",
        "    return arr\n",
        "\n",
        "\n",
        "\n",
        "test = Solution()\n",
        "print(test.sort([1, 0, 2, 1, 0]))\n",
        "print(test.sort([2, 2, 0, 1, 2, 0]))\n",
        "print(test.sort([0, 0, 1, 1, 2]))\n",
        "print(test.sort([0, 0, 1, 2, 2, 2]))\n",
        "print(test.sort([0,0,0,0, 0]))\n",
        "print(test.sort([0,0,0,0,1]))\n",
        "print(test.sort([1,0,0,0,0]))\n",
        "print(test.sort([2,1,0,0]))\n",
        "print(test.sort([2,0,0,0]))\n",
        "print(test.sort([2,2,2]))\n",
        "print(test.sort([2, 1, 0, 1, 2, 0, 0]))\n",
        "\n",
        "\n",
        "\n",
        "\n"
      ],
      "metadata": {
        "colab": {
          "base_uri": "https://localhost:8080/"
        },
        "id": "ztfbj6evvgY0",
        "outputId": "d25a2a51-d4b6-47d9-98af-0c0b20ad97e1"
      },
      "execution_count": null,
      "outputs": [
        {
          "output_type": "stream",
          "name": "stdout",
          "text": [
            "[0, 0, 1, 1, 2]\n",
            "[0, 0, 1, 2, 2, 2]\n",
            "[0, 0, 1, 1, 2]\n",
            "[0, 0, 1, 2, 2, 2]\n",
            "[0, 0, 0, 0, 0]\n",
            "[0, 0, 0, 0, 1]\n",
            "[0, 0, 0, 0, 1]\n",
            "[0, 0, 1, 2]\n",
            "[0, 0, 0, 2]\n",
            "[2, 2, 2]\n",
            "[0, 0, 0, 1, 1, 2, 2]\n"
          ]
        }
      ]
    },
    {
      "cell_type": "markdown",
      "source": [
        "## Problem Challenge 1: Quadruple Sum to Target (medium)\n",
        "\n",
        "Status: Complete ✅"
      ],
      "metadata": {
        "id": "M-0cfj3_N01n"
      }
    },
    {
      "cell_type": "code",
      "source": [
        "class Solution:\n",
        "\t# 59 m\n",
        "\t# Runtime: O(n^3)\n",
        "\t# Space: O(n), since we skip the duplicates. Update: It's actually O(n^3), since there could be that many quadruplets\n",
        "\tdef searchQuadruplets(self, arr, target):\n",
        "\t\tresult = []\n",
        "\t\tarr.sort()\n",
        "\t\tfor left in range(0, len(arr) - 3):\n",
        "\t\t\tif left > 0 and arr[left] == arr[left - 1]:\n",
        "\t\t\t\tcontinue\n",
        "\t\t\tcurResult = self.searchTriplets(arr, target - arr[left], left + 1)\n",
        "\t\t\tfor r in curResult:\n",
        "\t\t\t\tresult.append([arr[left], r[0], r[1], r[2]])\n",
        "\t\treturn result\n",
        "\n",
        "\n",
        "\tdef searchTriplets(self, arr, target, left):\n",
        "\t\tresult = []\n",
        "\t\tfor i in range(left, len(arr) - 2):\n",
        "\t\t\tif i > left and arr[i] == arr[i - 1]:\n",
        "\t\t\t\tcontinue\n",
        "\t\t\t#print(arr[i])\n",
        "\t\t\tcurResult = self.searchDoubles(arr, target - arr[i], i +1)\n",
        "\t\t\tfor r in curResult:\n",
        "\t\t\t\tresult.append([arr[i], r[0], r[1]])\n",
        "\t\treturn result\n",
        "\n",
        "\n",
        "\tdef searchDoubles(self, arr, target, left):\n",
        "\t\tresult = []\n",
        "\t\tright = len(arr) - 1\n",
        "\t\twhile left < right:\n",
        "\t\t\tif arr[left] + arr[right] == target:\n",
        "\t\t\t\tresult.append([arr[left], arr[right]])\n",
        "\t\t\t\tleft += 1\n",
        "\t\t\t\tright -= 1\n",
        "\t\t\t\twhile left < len(arr) and arr[left - 1] == arr[left]:\n",
        "\t\t\t\t\tleft += 1\n",
        "\t\t\t\twhile right > 0 and arr[right] == arr[right + 1]:\n",
        "\t\t\t\t\tright -= 1\n",
        "\t\t\telif arr[left] + arr[right] < target:\n",
        "\t\t\t\tleft += 1\n",
        "\t\t\t\twhile left < len(arr) and arr[left - 1] == arr[left]:\n",
        "\t\t\t\t\tleft += 1\n",
        "\t\t\telse:\n",
        "\t\t\t\t#print(right, left)\n",
        "\t\t\t\tright -= 1\n",
        "\t\t\t\twhile right > 0 and arr[right] == arr[right + 1]:\n",
        "\t\t\t\t\tright -= 1\n",
        "\t\treturn result\n",
        "\n",
        "\n",
        "\n",
        "\n",
        "\n",
        "\n",
        "\n",
        "test = Solution()\n",
        "print(test.searchQuadruplets([4, 1, 2, -1, 1, -3], 1)) # 2\n",
        "print(test.searchQuadruplets([2, 0, -1, 1, -2, 2], 2))\n",
        "print(test.searchQuadruplets([1, 1, 1, 1, 1, 1], 4))\n",
        "print(test.searchQuadruplets([1,2,3,4], 10))\n",
        "print(test.searchQuadruplets([1, 2, 3], 3))\n",
        "\n",
        "\n",
        "\n"
      ],
      "metadata": {
        "id": "1-jW2tadN1FZ",
        "colab": {
          "base_uri": "https://localhost:8080/"
        },
        "outputId": "585030c8-abf2-4276-f00d-74b4843f6d40"
      },
      "execution_count": null,
      "outputs": [
        {
          "output_type": "stream",
          "name": "stdout",
          "text": [
            "[[-3, -1, 1, 4], [-3, 1, 1, 2]]\n",
            "[[-2, 0, 2, 2], [-1, 0, 1, 2]]\n",
            "[[1, 1, 1, 1]]\n",
            "[[1, 2, 3, 4]]\n",
            "[]\n"
          ]
        }
      ]
    },
    {
      "cell_type": "markdown",
      "source": [
        "## Problem Challenge 2: Comparing Strings containing Backspaces (medium)\n",
        "Status: ✅"
      ],
      "metadata": {
        "id": "eDtzdouXfKLM"
      }
    },
    {
      "cell_type": "code",
      "source": [
        "class Solution:\n",
        "  # 25 m\n",
        "  # Runtime: O(m + n), m, n string length\n",
        "  # Space: O(1), only use constant space\n",
        "  def compare(self, str1, str2):\n",
        "    left, right = len(str1) - 1, len(str2) - 1\n",
        "    leftBackspace, rightBackspace = 0, 0\n",
        "    while left >= 0 and right >= 0:\n",
        "      if str1[left] == '#':\n",
        "        leftBackspace += 1\n",
        "        left -= 1\n",
        "      elif str2[right] == '#':\n",
        "        rightBackspace += 1\n",
        "        right -= 1\n",
        "      elif leftBackspace > 0:\n",
        "        leftBackspace -= 1\n",
        "        left -= 1\n",
        "      elif rightBackspace > 0:\n",
        "        rightBackspace -= 1\n",
        "        right -= 1\n",
        "      elif leftBackspace == 0 and rightBackspace == 0:\n",
        "        if str1[left] != str2[right]:\n",
        "          return False\n",
        "        left -= 1\n",
        "        right -= 1\n",
        "\n",
        "    if left == right:\n",
        "      return True\n",
        "\n",
        "    remNums = left if left > right else right\n",
        "    remStr = str1 if left > right else str2\n",
        "    remBackspaces = leftBackspace if left > right else rightBackspace\n",
        "\n",
        "    while remNums >= 0:\n",
        "      if remStr[remNums] == '#':\n",
        "        remBackspaces += 1\n",
        "        remNums -= 1\n",
        "      elif remBackspaces > 0:\n",
        "        remBackspaces -= 1\n",
        "        remNums -= 1\n",
        "      else:\n",
        "        return False\n",
        "\n",
        "    return True\n",
        "\n",
        "\n",
        "test = Solution()\n",
        "print(test.compare(\"xy#z\", \"xzz#\")) # True\n",
        "print(test.compare(\"xy#z\", \"xyz#\")) # False\n",
        "print(test.compare(\"xp#\", \"xyz##\")) # True\n",
        "print(test.compare(\"xywrrmp\", \"xywrrmu#p\")) # True\n",
        "print(test.compare(\"a\", \"a\")) # True\n",
        "print(test.compare(\"a\", \"b\")) # False\n",
        "print(test.compare(\"##\", \"#\")) # True\n",
        "\n",
        "print(test.compare(\"a##xy#z\", \"xzz#\")) # True\n",
        "print(test.compare(\"aaa##xy#z\", \"xzz#\")) # False\n",
        "\n",
        "\n",
        "\n",
        "\n",
        "\n"
      ],
      "metadata": {
        "colab": {
          "base_uri": "https://localhost:8080/"
        },
        "id": "9Y7ONkB1fKU2",
        "outputId": "12a596c4-4538-49b4-c446-b0384cd6fec4"
      },
      "execution_count": null,
      "outputs": [
        {
          "output_type": "stream",
          "name": "stdout",
          "text": [
            "True\n",
            "False\n",
            "True\n",
            "True\n",
            "True\n",
            "False\n",
            "True\n",
            "True\n",
            "False\n"
          ]
        }
      ]
    },
    {
      "cell_type": "markdown",
      "source": [
        "## Problem Challenge 3: Minimum Window Sort (medium)\n",
        "Status: ✅"
      ],
      "metadata": {
        "id": "JNrd2Vsv-Stl"
      }
    },
    {
      "cell_type": "code",
      "source": [
        "class Solution:\n",
        "  # 65+ m\n",
        "  # Runtime: O(n)\n",
        "  # Space: O(1)\n",
        "  def sort(self, arr):\n",
        "    leftValid, rightValid = 0, len(arr) - 1\n",
        "    while leftValid < len(arr) - 1 and arr[leftValid] <= arr[leftValid + 1]:\n",
        "      leftValid += 1\n",
        "    for i in range(leftValid + 1, len(arr)):\n",
        "      while arr[i] < arr[leftValid]:\n",
        "        if leftValid == 0:\n",
        "          leftValid -= 1\n",
        "          break\n",
        "        leftValid -= 1\n",
        "      if leftValid == -1:\n",
        "        break\n",
        "    while rightValid > 0 and arr[rightValid] >= arr[rightValid - 1]:\n",
        "      rightValid -= 1\n",
        "    for i in range(rightValid - 1, -1, -1):\n",
        "      while arr[i] > arr[rightValid]:\n",
        "        if rightValid == len(arr) - 1:\n",
        "          rightValid += 1\n",
        "          break\n",
        "        rightValid += 1\n",
        "      if rightValid == len(arr):\n",
        "        break\n",
        "    leftValid = leftValid + 1 if leftValid > -1 else 0\n",
        "    rightValid = rightValid - 1 if rightValid < len(arr) else len(arr) - 1\n",
        "    return max(0, len(arr) - leftValid - (len(arr) - 1 - rightValid))\n",
        "\n",
        "\n",
        "\n",
        "test = Solution()\n",
        "print(test.sort([1, 2, 5, 3, 7, 10, 9, 12])) # 5\n",
        "print(test.sort([1, 3, 2, 0, -1, 7, 10])) # 5\n",
        "print(test.sort([1, 2, 3])) # 0\n",
        "print(test.sort([3, 2, 1])) # 3\n",
        "\n",
        "\n",
        "\n",
        "\n",
        "\n",
        "\n",
        "\n",
        "\n",
        "\n",
        "\n",
        "\n",
        "\n"
      ],
      "metadata": {
        "colab": {
          "base_uri": "https://localhost:8080/"
        },
        "id": "PgEtUwuV-S_j",
        "outputId": "53c29961-c3ab-4e50-9645-d1f4d03e5a38"
      },
      "execution_count": null,
      "outputs": [
        {
          "output_type": "stream",
          "name": "stdout",
          "text": [
            "5\n",
            "5\n",
            "0\n",
            "3\n"
          ]
        }
      ]
    },
    {
      "cell_type": "markdown",
      "source": [
        "# Pattern: Fast & Slow Pointers"
      ],
      "metadata": {
        "id": "g_HExVOx6tmM"
      }
    },
    {
      "cell_type": "markdown",
      "source": [
        "## LinkedList Cycle (easy)\n",
        "Status: ✅"
      ],
      "metadata": {
        "id": "33wa1LC46083"
      }
    },
    {
      "cell_type": "code",
      "source": [
        "class Node:\n",
        "  def __init__(self, value, next=None):\n",
        "    self.val = value\n",
        "    self.next = next\n",
        "\n",
        "\n",
        "class Solution:\n",
        "  # 10m\n",
        "  # Runtime: O(n)\n",
        "  # Space: O(1)\n",
        "  def hasCycle(self, head):\n",
        "    slow = head\n",
        "    fast = head\n",
        "    while fast and fast.next:\n",
        "      slow = slow.next\n",
        "      fast = fast.next.next\n",
        "      if slow == fast:\n",
        "        return True\n",
        "    return False\n",
        "\n",
        "\n",
        "test = Solution()\n",
        "print(test.hasCycle(Node(1))) # False\n",
        "print(test.hasCycle(Node(1, Node(2, Node(3))))) # False\n",
        "\n",
        "\n",
        "\n"
      ],
      "metadata": {
        "colab": {
          "base_uri": "https://localhost:8080/"
        },
        "id": "3ZyHGl-Y61MZ",
        "outputId": "1da406c6-0789-4a44-a772-46402956bb36"
      },
      "execution_count": null,
      "outputs": [
        {
          "output_type": "stream",
          "name": "stdout",
          "text": [
            "False\n",
            "False\n"
          ]
        }
      ]
    },
    {
      "cell_type": "markdown",
      "source": [
        "## Middle of the LinkedList (easy)\n",
        "Status: ✅"
      ],
      "metadata": {
        "id": "9upEEV6A-k-8"
      }
    },
    {
      "cell_type": "code",
      "source": [
        "class Node:\n",
        "  def __init__(self, value, next=None):\n",
        "    self.val = value\n",
        "    self.next = next\n",
        "\n",
        "class Solution:\n",
        "  # 5 m\n",
        "  # Runtime: O(n)\n",
        "  # Space O(1)\n",
        "  def findMiddle(self, head):\n",
        "    slow, fast = head, head\n",
        "    while fast and fast.next:\n",
        "      slow = slow.next\n",
        "      fast = fast.next.next\n",
        "    return slow\n",
        "\n",
        "\n",
        "test = Solution()\n",
        "print(test.findMiddle(Node(1))) # 1\n",
        "print(test.findMiddle(Node(1, Node(2, Node(3))))) # 2\n",
        "print(test.findMiddle(Node(1, Node(2, Node(3, Node(4)))))) # 3\n",
        "print(test.findMiddle(Node(1, Node(2, Node(3, Node(4, Node(5))))))) # 3\n",
        "\n",
        "\n"
      ],
      "metadata": {
        "colab": {
          "base_uri": "https://localhost:8080/"
        },
        "id": "mkbh2zLn-pgU",
        "outputId": "820b81a1-5ef7-44de-fb40-50b5c8c3d50c"
      },
      "execution_count": null,
      "outputs": [
        {
          "output_type": "stream",
          "name": "stdout",
          "text": [
            "1\n",
            "2\n",
            "3\n",
            "3\n"
          ]
        }
      ]
    },
    {
      "cell_type": "markdown",
      "source": [
        "## Start of LinkedList Cycle (medium)\n",
        "Status: ✅"
      ],
      "metadata": {
        "id": "Pvwk3S_iABpW"
      }
    },
    {
      "cell_type": "code",
      "source": [
        "class Node:\n",
        "  def __init__(self, value, next=None):\n",
        "    self.val = value\n",
        "    self.next = next\n",
        "\n",
        "class Solution:\n",
        "  # 16 m\n",
        "  # Runtime: O(n)\n",
        "  # Space: O(1)\n",
        "  def findCycleStart(self, head):\n",
        "    slow, fast = head, head\n",
        "    while fast and fast.next:\n",
        "      slow = slow.next\n",
        "      fast = fast.next.next\n",
        "      if slow == fast:\n",
        "        break\n",
        "    cur = head\n",
        "    while cur != slow:\n",
        "      cur = cur.next\n",
        "      slow = slow.next\n",
        "    return cur\n",
        "\n",
        "\n",
        "test = Solution()\n",
        "head = Node(1)\n",
        "head.next = Node(2)\n",
        "head.next.next = Node(3)\n",
        "head.next.next.next = Node(4)\n",
        "head.next.next.next.next = Node(5)\n",
        "head.next.next.next.next.next = Node(6)\n",
        "\n",
        "head.next.next.next.next.next.next = head.next.next\n",
        "print(test.findCycleStart(head).val) # 3\n",
        "\n",
        "head.next.next.next.next.next.next = head.next.next.next\n",
        "print(test.findCycleStart(head).val) # 4\n",
        "\n",
        "head.next.next.next.next.next.next = head\n",
        "print(test.findCycleStart(head).val) # 1\n",
        "\n",
        "\n",
        "\n",
        "\n"
      ],
      "metadata": {
        "colab": {
          "base_uri": "https://localhost:8080/"
        },
        "id": "MQSRawu_ADlm",
        "outputId": "7cb11f0a-96d2-47c0-e3a0-40f53c34fa06"
      },
      "execution_count": null,
      "outputs": [
        {
          "output_type": "stream",
          "name": "stdout",
          "text": [
            "3\n",
            "4\n",
            "1\n"
          ]
        }
      ]
    },
    {
      "cell_type": "markdown",
      "source": [
        "## Happy Number (medium)\n",
        "Status: ✅"
      ],
      "metadata": {
        "id": "lM8aiQxbpLoe"
      }
    },
    {
      "cell_type": "code",
      "source": [
        "class Solution:\n",
        "  # 14 m\n",
        "  # Runtime: O(n)\n",
        "  # Space: O(1)\n",
        "  def find(self, num):\n",
        "    slow, fast = num, num\n",
        "    while fast != 1:\n",
        "      slow = self._findNext(slow)\n",
        "      fast = self._findNext(fast)\n",
        "      fast = self._findNext(fast)\n",
        "\n",
        "      if fast != 1 and slow == fast:\n",
        "        return False\n",
        "\n",
        "    return True\n",
        "\n",
        "  def _findNext(self, num):\n",
        "    newNum = 0\n",
        "    for digit in str(num):\n",
        "      newNum += int(digit) ** 2\n",
        "    return newNum\n",
        "\n",
        "\n",
        "test = Solution()\n",
        "print(test.find(23)) #True\n",
        "print(test.find(12)) #False\n",
        "\n",
        "print(test.find(1)) #True\n",
        "\n",
        "print(test.find(24))\n",
        "print(test.find(13))\n",
        "\n",
        "\n",
        "\n"
      ],
      "metadata": {
        "colab": {
          "base_uri": "https://localhost:8080/"
        },
        "id": "zdQOMPK4pLyz",
        "outputId": "fef74485-b16a-48be-a0f6-b62fd5b63e68"
      },
      "execution_count": 9,
      "outputs": [
        {
          "output_type": "stream",
          "name": "stdout",
          "text": [
            "True\n",
            "False\n",
            "True\n",
            "False\n",
            "True\n"
          ]
        }
      ]
    },
    {
      "cell_type": "markdown",
      "source": [
        "## Problem Challenge 1: Palindrome LinkedList (medium)\n",
        "Status:"
      ],
      "metadata": {
        "id": "U0rouz-rIvH0"
      }
    },
    {
      "cell_type": "code",
      "source": [
        "class Node:\n",
        "  def __init__(self, value, next = None):\n",
        "    self.val = value\n",
        "    self.next = next\n",
        "\n",
        "\n",
        "class Solution:\n",
        "  def _reverseLL(self, node):\n",
        "    prev, cur = None, node\n",
        "    while cur:\n",
        "      next = cur.next\n",
        "      cur.next = prev\n",
        "      prev = cur\n",
        "      cur = next\n",
        "    return prev\n",
        "\n",
        "  # 34 m\n",
        "  # Runtime: O(n)\n",
        "  # Space: O(1)\n",
        "  def isPalindrome(self, head):\n",
        "    if not head:\n",
        "      return True\n",
        "\n",
        "    fast, slow = head, head\n",
        "    count = 1\n",
        "    while fast and fast.next:\n",
        "      fast = fast.next\n",
        "      count += 1\n",
        "      if fast.next:\n",
        "        fast = fast.next\n",
        "        count += 1\n",
        "      else:\n",
        "        break\n",
        "      slow = slow.next\n",
        "\n",
        "    reversed = self._reverseLL(slow.next)\n",
        "    slow.next = reversed\n",
        "\n",
        "    ptr1, ptr2 = head, slow.next\n",
        "    isPalidrome = True\n",
        "    for _ in range(count // 2):\n",
        "      if ptr1.val != ptr2.val:\n",
        "        isPalidrome = False\n",
        "        break\n",
        "      ptr1 = ptr1.next\n",
        "      ptr2 = ptr2.next\n",
        "\n",
        "    reversed = self._reverseLL(slow.next)\n",
        "    slow.next = reversed\n",
        "\n",
        "    return isPalidrome\n",
        "\n",
        "\n",
        "def main():\n",
        "  sol = Solution()\n",
        "  print(\"Is palindrome: \" + str(sol.isPalindrome(None))) # True\n",
        "\n",
        "  head = Node(2)\n",
        "  print(\"Is palindrome: \" + str(sol.isPalindrome(head))) # True\n",
        "\n",
        "  head.next = Node(4)\n",
        "  print(\"Is palindrome: \" + str(sol.isPalindrome(head))) # False\n",
        "\n",
        "  head.next.next = Node(6)\n",
        "  head.next.next.next = Node(4)\n",
        "  head.next.next.next.next = Node(2)\n",
        "\n",
        "  print(\"Is palindrome: \" + str(sol.isPalindrome(head))) # True\n",
        "\n",
        "  head.next.next.next.next.next = Node(2)\n",
        "  print(\"Is palindrome: \" + str(sol.isPalindrome(head))) # False\n",
        "\n",
        "\n",
        "main()\n",
        "\n",
        "\n",
        "\n",
        "\n",
        "\n",
        "\n",
        "\n",
        "\n",
        "\n"
      ],
      "metadata": {
        "colab": {
          "base_uri": "https://localhost:8080/"
        },
        "id": "5yyuX-SyIxBS",
        "outputId": "047f53cd-8940-4641-ff10-5ae67143bac4"
      },
      "execution_count": 18,
      "outputs": [
        {
          "output_type": "stream",
          "name": "stdout",
          "text": [
            "Is palindrome: True\n",
            "Is palindrome: True\n",
            "Is palindrome: False\n",
            "Is palindrome: True\n",
            "Is palindrome: False\n"
          ]
        }
      ]
    }
  ]
}